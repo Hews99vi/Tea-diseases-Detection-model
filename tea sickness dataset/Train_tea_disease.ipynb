{
 "cells": [
  {
   "cell_type": "markdown",
   "id": "85cd5d45-4a9a-4bc2-a572-9c5fe77826eb",
   "metadata": {},
   "source": [
    "## Importing Libraries"
   ]
  },
  {
   "cell_type": "code",
   "execution_count": 1,
   "id": "88da7290-b350-4c61-9371-97598e9b2f8e",
   "metadata": {
    "scrolled": true
   },
   "outputs": [],
   "source": [
    "\n",
    "import tensorflow as tf\n",
    "import numpy as np\n",
    "import matplotlib.pyplot as plt\n",
    "import pandas as pd\n",
    "import seaborn as sns\n",
    "\n"
   ]
  },
  {
   "cell_type": "code",
   "execution_count": 2,
   "id": "b6552fcb",
   "metadata": {},
   "outputs": [
    {
     "name": "stdout",
     "output_type": "stream",
     "text": [
      "[PhysicalDevice(name='/physical_device:GPU:0', device_type='GPU')]\n"
     ]
    }
   ],
   "source": [
    "print(tf.config.list_physical_devices('GPU'))"
   ]
  },
  {
   "cell_type": "markdown",
   "id": "e67fc2f1-0ac7-4392-92f0-1d552b29a3b3",
   "metadata": {},
   "source": [
    "## Data Preprocessing"
   ]
  },
  {
   "cell_type": "markdown",
   "id": "18f2d0c9-c4c9-4295-add6-e7fac273f729",
   "metadata": {},
   "source": [
    "## Traning Image Preprocessing"
   ]
  },
  {
   "cell_type": "code",
   "execution_count": 3,
   "id": "e086ef52-e8ef-4a09-9546-3760a45faf2b",
   "metadata": {},
   "outputs": [
    {
     "name": "stdout",
     "output_type": "stream",
     "text": [
      "Found 18470 files belonging to 8 classes.\n"
     ]
    }
   ],
   "source": [
    "training_set = tf.keras.utils.image_dataset_from_directory(\n",
    "    'train',\n",
    "    labels=\"inferred\",\n",
    "    label_mode=\"categorical\",\n",
    "    class_names=None,\n",
    "    color_mode=\"rgb\",\n",
    "    batch_size=32,\n",
    "    image_size=(128, 128),\n",
    "    shuffle=True,\n",
    "    seed=None,\n",
    "    validation_split=None,\n",
    "    subset=None,\n",
    "    interpolation=\"bilinear\",\n",
    "    follow_links=False,\n",
    "    crop_to_aspect_ratio=False\n",
    ")"
   ]
  },
  {
   "cell_type": "markdown",
   "id": "ca0b8f1f-1ae5-497c-a30f-0134109155a6",
   "metadata": {},
   "source": [
    "## Validation Image Preprocessing\n"
   ]
  },
  {
   "cell_type": "code",
   "execution_count": 4,
   "id": "2fe3ff48-2176-4458-82fd-046dcd373dba",
   "metadata": {},
   "outputs": [
    {
     "name": "stdout",
     "output_type": "stream",
     "text": [
      "Found 4086 files belonging to 8 classes.\n"
     ]
    }
   ],
   "source": [
    "validation_set = tf.keras.utils.image_dataset_from_directory(\n",
    "    'valid',\n",
    "    labels=\"inferred\",\n",
    "    label_mode=\"categorical\",\n",
    "    class_names=None,\n",
    "    color_mode=\"rgb\",\n",
    "    batch_size=32,\n",
    "    image_size=(128, 128),\n",
    "    shuffle=True,\n",
    "    seed=None,\n",
    "    validation_split=None,\n",
    "    subset=None,\n",
    "    interpolation=\"bilinear\",\n",
    "    follow_links=False,\n",
    "    crop_to_aspect_ratio=False\n",
    ")\n",
    "\n",
    "\n"
   ]
  },
  {
   "cell_type": "code",
   "execution_count": 5,
   "id": "b837df81-91df-45b8-bdd2-8092dff23af1",
   "metadata": {},
   "outputs": [
    {
     "data": {
      "text/plain": [
       "<BatchDataset element_spec=(TensorSpec(shape=(None, 128, 128, 3), dtype=tf.float32, name=None), TensorSpec(shape=(None, 8), dtype=tf.float32, name=None))>"
      ]
     },
     "execution_count": 5,
     "metadata": {},
     "output_type": "execute_result"
    }
   ],
   "source": [
    "training_set"
   ]
  },
  {
   "cell_type": "code",
   "execution_count": 6,
   "id": "87798d19-d7c6-4757-8c78-9f7c04c33c0f",
   "metadata": {},
   "outputs": [
    {
     "name": "stdout",
     "output_type": "stream",
     "text": [
      "tf.Tensor(\n",
      "[[[[213.5    202.5    245.5   ]\n",
      "   [214.     203.     246.    ]\n",
      "   [215.     204.     247.    ]\n",
      "   ...\n",
      "   [240.     232.     253.    ]\n",
      "   [240.     233.     251.    ]\n",
      "   [240.     233.     251.    ]]\n",
      "\n",
      "  [[213.     202.     245.    ]\n",
      "   [213.75   202.75   245.75  ]\n",
      "   [214.25   203.25   246.25  ]\n",
      "   ...\n",
      "   [240.     232.     253.    ]\n",
      "   [240.     233.     251.    ]\n",
      "   [240.     233.     251.    ]]\n",
      "\n",
      "  [[212.     201.     244.    ]\n",
      "   [212.75   201.75   244.75  ]\n",
      "   [213.75   202.75   245.75  ]\n",
      "   ...\n",
      "   [240.     232.     253.    ]\n",
      "   [240.     233.     251.    ]\n",
      "   [240.     233.     251.    ]]\n",
      "\n",
      "  ...\n",
      "\n",
      "  [[215.     202.     248.    ]\n",
      "   [215.     202.     248.    ]\n",
      "   [215.     202.     248.    ]\n",
      "   ...\n",
      "   [226.     215.     255.    ]\n",
      "   [226.     215.     255.    ]\n",
      "   [226.     215.     255.    ]]\n",
      "\n",
      "  [[215.     202.     248.    ]\n",
      "   [215.     202.     248.    ]\n",
      "   [215.     202.     248.    ]\n",
      "   ...\n",
      "   [226.     215.     255.    ]\n",
      "   [226.     215.     255.    ]\n",
      "   [226.     215.     255.    ]]\n",
      "\n",
      "  [[215.     202.     248.    ]\n",
      "   [215.     202.     248.    ]\n",
      "   [215.     202.     248.    ]\n",
      "   ...\n",
      "   [226.     215.     255.    ]\n",
      "   [226.     215.     255.    ]\n",
      "   [226.     215.     255.    ]]]\n",
      "\n",
      "\n",
      " [[[196.3125 171.3125 201.3125]\n",
      "   [196.9375 171.9375 201.9375]\n",
      "   [197.75   172.75   202.75  ]\n",
      "   ...\n",
      "   [138.6875 110.6875 133.6875]\n",
      "   [135.     107.     129.25  ]\n",
      "   [135.8125 107.8125 129.8125]]\n",
      "\n",
      "  [[200.25   175.25   205.25  ]\n",
      "   [201.25   176.25   206.25  ]\n",
      "   [202.25   177.25   207.25  ]\n",
      "   ...\n",
      "   [141.     113.     136.    ]\n",
      "   [138.75   110.75   133.    ]\n",
      "   [137.25   109.25   131.25  ]]\n",
      "\n",
      "  [[202.     177.     207.    ]\n",
      "   [202.4375 177.4375 207.4375]\n",
      "   [203.75   178.75   208.75  ]\n",
      "   ...\n",
      "   [143.1875 115.1875 138.1875]\n",
      "   [143.     115.     137.25  ]\n",
      "   [139.5    111.5    133.5   ]]\n",
      "\n",
      "  ...\n",
      "\n",
      "  [[171.75   142.     175.25  ]\n",
      "   [172.75   143.     176.25  ]\n",
      "   [173.6875 143.9375 177.1875]\n",
      "   ...\n",
      "   [ 74.4375  27.875   28.4375]\n",
      "   [ 76.3125  29.5625  32.5625]\n",
      "   [ 75.625   28.125   34.125 ]]\n",
      "\n",
      "  [[174.     145.     176.    ]\n",
      "   [174.     145.     176.    ]\n",
      "   [174.     145.     176.    ]\n",
      "   ...\n",
      "   [ 74.3125  26.0625  26.8125]\n",
      "   [ 78.4375  29.4375  33.1875]\n",
      "   [ 74.0625  25.0625  31.0625]]\n",
      "\n",
      "  [[184.75   155.75   185.75  ]\n",
      "   [183.75   154.75   184.75  ]\n",
      "   [182.75   153.75   183.75  ]\n",
      "   ...\n",
      "   [ 70.625   20.625   22.125 ]\n",
      "   [ 78.25    27.5     32.    ]\n",
      "   [ 77.625   26.625   33.625 ]]]\n",
      "\n",
      "\n",
      " [[[113.4375  96.4375  88.4375]\n",
      "   [123.25   106.      99.75  ]\n",
      "   [136.9375 118.9375 116.4375]\n",
      "   ...\n",
      "   [244.25   241.25   252.25  ]\n",
      "   [245.75   242.75   253.75  ]\n",
      "   [247.     244.     255.    ]]\n",
      "\n",
      "  [[156.6875 139.6875 131.9375]\n",
      "   [164.1875 146.75   141.1875]\n",
      "   [171.0625 153.0625 151.0625]\n",
      "   ...\n",
      "   [245.25   242.25   253.25  ]\n",
      "   [245.625  242.625  253.625 ]\n",
      "   [245.75   242.75   253.75  ]]\n",
      "\n",
      "  [[185.     167.25   162.5   ]\n",
      "   [189.     171.     167.5   ]\n",
      "   [189.25   171.25   170.75  ]\n",
      "   ...\n",
      "   [246.5625 243.5625 254.5625]\n",
      "   [245.25   242.25   253.25  ]\n",
      "   [244.25   241.25   252.25  ]]\n",
      "\n",
      "  ...\n",
      "\n",
      "  [[208.     193.     198.    ]\n",
      "   [207.1875 192.1875 197.1875]\n",
      "   [209.5    194.5    199.5   ]\n",
      "   ...\n",
      "   [197.75   179.75   178.875 ]\n",
      "   [197.     179.     176.625 ]\n",
      "   [198.     180.     176.    ]]\n",
      "\n",
      "  [[207.     192.     197.    ]\n",
      "   [206.4375 191.4375 196.4375]\n",
      "   [208.75   193.75   198.75  ]\n",
      "   ...\n",
      "   [197.75   179.75   177.375 ]\n",
      "   [197.     179.     175.125 ]\n",
      "   [198.     180.75   174.5   ]]\n",
      "\n",
      "  [[206.     191.     196.    ]\n",
      "   [205.8125 190.8125 195.8125]\n",
      "   [207.75   192.75   197.75  ]\n",
      "   ...\n",
      "   [197.75   179.75   175.75  ]\n",
      "   [197.     179.75   173.5   ]\n",
      "   [198.     181.     174.    ]]]\n",
      "\n",
      "\n",
      " ...\n",
      "\n",
      "\n",
      " [[[227.75   225.75   226.75  ]\n",
      "   [226.25   224.25   225.25  ]\n",
      "   [227.     225.     226.    ]\n",
      "   ...\n",
      "   [238.     238.     238.    ]\n",
      "   [238.     238.     238.    ]\n",
      "   [238.     238.     238.    ]]\n",
      "\n",
      "  [[228.25   226.25   227.25  ]\n",
      "   [229.     227.     228.    ]\n",
      "   [228.     226.     227.    ]\n",
      "   ...\n",
      "   [238.     238.     238.    ]\n",
      "   [238.     238.     238.    ]\n",
      "   [238.     238.     238.    ]]\n",
      "\n",
      "  [[225.25   224.25   222.25  ]\n",
      "   [228.     227.     225.    ]\n",
      "   [229.     228.     226.    ]\n",
      "   ...\n",
      "   [238.     238.     238.    ]\n",
      "   [238.     238.     238.    ]\n",
      "   [238.     238.     238.    ]]\n",
      "\n",
      "  ...\n",
      "\n",
      "  [[206.     202.     193.    ]\n",
      "   [206.     202.     193.    ]\n",
      "   [206.     202.     193.    ]\n",
      "   ...\n",
      "   [227.75   227.75   229.75  ]\n",
      "   [228.     228.     230.    ]\n",
      "   [229.     229.     231.    ]]\n",
      "\n",
      "  [[206.     202.     193.    ]\n",
      "   [206.     202.     193.    ]\n",
      "   [206.     202.     193.    ]\n",
      "   ...\n",
      "   [229.25   229.25   231.25  ]\n",
      "   [229.     229.     231.    ]\n",
      "   [228.25   228.25   230.25  ]]\n",
      "\n",
      "  [[206.     202.     193.    ]\n",
      "   [206.     202.     193.    ]\n",
      "   [206.     202.     193.    ]\n",
      "   ...\n",
      "   [230.     230.     232.    ]\n",
      "   [229.     229.     231.    ]\n",
      "   [228.     228.     230.    ]]]\n",
      "\n",
      "\n",
      " [[[217.     211.     245.    ]\n",
      "   [217.     211.     245.    ]\n",
      "   [217.     211.     245.    ]\n",
      "   ...\n",
      "   [217.     211.     245.    ]\n",
      "   [217.     211.     245.    ]\n",
      "   [217.     211.     245.    ]]\n",
      "\n",
      "  [[217.     211.     245.    ]\n",
      "   [217.     211.     245.    ]\n",
      "   [217.     211.     245.    ]\n",
      "   ...\n",
      "   [217.     211.     245.    ]\n",
      "   [217.     211.     245.    ]\n",
      "   [217.     211.     245.    ]]\n",
      "\n",
      "  [[217.     211.     245.    ]\n",
      "   [217.     211.     245.    ]\n",
      "   [217.     211.     245.    ]\n",
      "   ...\n",
      "   [217.     211.     245.    ]\n",
      "   [217.     211.     245.    ]\n",
      "   [217.     211.     245.    ]]\n",
      "\n",
      "  ...\n",
      "\n",
      "  [[187.5    168.5    214.5   ]\n",
      "   [187.5    168.5    214.5   ]\n",
      "   [187.5    168.5    214.5   ]\n",
      "   ...\n",
      "   [212.     201.     241.    ]\n",
      "   [212.     201.     241.    ]\n",
      "   [212.     201.     241.    ]]\n",
      "\n",
      "  [[188.     169.     215.    ]\n",
      "   [188.     169.     215.    ]\n",
      "   [188.     169.     215.    ]\n",
      "   ...\n",
      "   [212.     201.     241.    ]\n",
      "   [212.     201.     241.    ]\n",
      "   [212.     201.     241.    ]]\n",
      "\n",
      "  [[187.5    168.5    214.5   ]\n",
      "   [187.5    168.5    214.5   ]\n",
      "   [187.5    168.5    214.5   ]\n",
      "   ...\n",
      "   [212.     201.     241.    ]\n",
      "   [212.     201.     241.    ]\n",
      "   [212.     201.     241.    ]]]\n",
      "\n",
      "\n",
      " [[[210.     200.     253.    ]\n",
      "   [210.     200.     253.    ]\n",
      "   [210.     200.     253.    ]\n",
      "   ...\n",
      "   [227.5    217.5    252.5   ]\n",
      "   [229.     219.     254.    ]\n",
      "   [228.     218.     253.    ]]\n",
      "\n",
      "  [[210.     200.     253.    ]\n",
      "   [210.     200.     253.    ]\n",
      "   [210.     200.     253.    ]\n",
      "   ...\n",
      "   [227.75   217.75   252.75  ]\n",
      "   [228.     218.     253.    ]\n",
      "   [227.5    217.5    252.5   ]]\n",
      "\n",
      "  [[210.     200.     253.    ]\n",
      "   [210.     200.     253.    ]\n",
      "   [210.     200.     253.    ]\n",
      "   ...\n",
      "   [228.     218.     253.    ]\n",
      "   [227.75   217.75   252.75  ]\n",
      "   [226.25   216.25   251.25  ]]\n",
      "\n",
      "  ...\n",
      "\n",
      "  [[171.25   160.25   220.25  ]\n",
      "   [173.5    162.5    222.5   ]\n",
      "   [170.5    159.5    219.5   ]\n",
      "   ...\n",
      "   [208.     199.     252.    ]\n",
      "   [208.75   199.75   252.75  ]\n",
      "   [209.25   200.25   253.25  ]]\n",
      "\n",
      "  [[172.5    161.5    221.5   ]\n",
      "   [172.5    161.5    221.5   ]\n",
      "   [169.5    158.5    218.5   ]\n",
      "   ...\n",
      "   [208.25   199.25   254.25  ]\n",
      "   [209.     200.     255.    ]\n",
      "   [209.75   200.75   255.    ]]\n",
      "\n",
      "  [[173.     162.     222.    ]\n",
      "   [172.     161.     221.    ]\n",
      "   [169.     158.     218.    ]\n",
      "   ...\n",
      "   [205.75   196.75   251.75  ]\n",
      "   [206.75   197.75   252.75  ]\n",
      "   [207.     198.     253.    ]]]], shape=(32, 128, 128, 3), dtype=float32) (32, 128, 128, 3)\n",
      "tf.Tensor(\n",
      "[[0. 0. 0. 0. 1. 0. 0. 0.]\n",
      " [1. 0. 0. 0. 0. 0. 0. 0.]\n",
      " [0. 0. 0. 1. 0. 0. 0. 0.]\n",
      " [0. 0. 0. 0. 1. 0. 0. 0.]\n",
      " [0. 0. 0. 0. 0. 1. 0. 0.]\n",
      " [0. 0. 0. 0. 0. 0. 1. 0.]\n",
      " [0. 0. 0. 1. 0. 0. 0. 0.]\n",
      " [0. 0. 0. 0. 0. 1. 0. 0.]\n",
      " [0. 0. 0. 0. 1. 0. 0. 0.]\n",
      " [0. 0. 0. 0. 1. 0. 0. 0.]\n",
      " [0. 0. 0. 0. 1. 0. 0. 0.]\n",
      " [0. 0. 0. 0. 1. 0. 0. 0.]\n",
      " [0. 0. 1. 0. 0. 0. 0. 0.]\n",
      " [0. 0. 0. 0. 0. 0. 1. 0.]\n",
      " [0. 0. 0. 0. 1. 0. 0. 0.]\n",
      " [0. 0. 0. 0. 0. 0. 1. 0.]\n",
      " [0. 0. 0. 0. 1. 0. 0. 0.]\n",
      " [0. 0. 0. 0. 1. 0. 0. 0.]\n",
      " [0. 0. 0. 0. 1. 0. 0. 0.]\n",
      " [0. 0. 0. 0. 0. 0. 0. 1.]\n",
      " [0. 1. 0. 0. 0. 0. 0. 0.]\n",
      " [0. 0. 1. 0. 0. 0. 0. 0.]\n",
      " [0. 1. 0. 0. 0. 0. 0. 0.]\n",
      " [0. 0. 0. 0. 1. 0. 0. 0.]\n",
      " [1. 0. 0. 0. 0. 0. 0. 0.]\n",
      " [0. 0. 0. 1. 0. 0. 0. 0.]\n",
      " [1. 0. 0. 0. 0. 0. 0. 0.]\n",
      " [0. 1. 0. 0. 0. 0. 0. 0.]\n",
      " [0. 0. 0. 0. 1. 0. 0. 0.]\n",
      " [0. 0. 0. 0. 0. 1. 0. 0.]\n",
      " [0. 1. 0. 0. 0. 0. 0. 0.]\n",
      " [0. 1. 0. 0. 0. 0. 0. 0.]], shape=(32, 8), dtype=float32) (32, 8)\n"
     ]
    }
   ],
   "source": [
    "for x,y in training_set:\n",
    "    print(x,x.shape)\n",
    "    print(y,y.shape)\n",
    "    break\n",
    "    "
   ]
  },
  {
   "cell_type": "markdown",
   "id": "a61f5b08-7415-4b91-a5d0-98db623c9f06",
   "metadata": {},
   "source": [
    "## To avoid Overshooting\n",
    "1.Choose small learning rate default 0.001 here we have taken 0.0001\n",
    "2.There may be chance of underfitting so increase number of neuron\n",
    "3.Add more Convolutional Layer to extract more feature from images there may be possibilty that model unable to capture relevant feature or model is confusing due to lack of feature so feed with more feature"
   ]
  },
  {
   "cell_type": "markdown",
   "id": "063e3468-3482-4e77-8326-1a3db38481fb",
   "metadata": {},
   "source": [
    "## Building Model"
   ]
  },
  {
   "cell_type": "code",
   "execution_count": 7,
   "id": "d3d37712-fc15-47a9-b53e-5dcde0bbe27b",
   "metadata": {
    "scrolled": true
   },
   "outputs": [],
   "source": [
    "from tensorflow.keras.models import Sequential\n",
    "from tensorflow.keras.layers import Dense, Conv2D, MaxPooling2D, Flatten, Dropout"
   ]
  },
  {
   "cell_type": "code",
   "execution_count": 8,
   "id": "242163c7-c637-407b-a558-efc66e41a1fd",
   "metadata": {},
   "outputs": [],
   "source": [
    "model = Sequential()"
   ]
  },
  {
   "cell_type": "markdown",
   "id": "13ffd9fd-f76e-403b-9828-77260f817001",
   "metadata": {},
   "source": [
    "## Building Convolution Layer"
   ]
  },
  {
   "cell_type": "code",
   "execution_count": 9,
   "id": "ec85507c-0e86-4cb1-9fc0-d63380d65e1c",
   "metadata": {},
   "outputs": [],
   "source": [
    "model.add(Conv2D(filters=32,kernel_size=3,padding='same',activation='relu',input_shape=[128,128,3]))\n",
    "model.add(Conv2D(filters=32,kernel_size=3,activation='relu'))\n",
    "model.add(MaxPooling2D(pool_size=2, strides=2))"
   ]
  },
  {
   "cell_type": "code",
   "execution_count": 10,
   "id": "338cfae3-c48d-4780-b358-eefeada463b2",
   "metadata": {},
   "outputs": [],
   "source": [
    "model.add(Conv2D(filters=64,kernel_size=3,padding='same',activation='relu'))\n",
    "model.add(Conv2D(filters=64,kernel_size=3,activation='relu'))\n",
    "model.add(MaxPooling2D(pool_size=2, strides=2))"
   ]
  },
  {
   "cell_type": "code",
   "execution_count": 11,
   "id": "cbcb73c4-6500-4539-b8a0-83e010858378",
   "metadata": {},
   "outputs": [],
   "source": [
    "model.add(Conv2D(filters=128,kernel_size=3,padding='same',activation='relu'))\n",
    "model.add(Conv2D(filters=128,kernel_size=3,activation='relu'))\n",
    "model.add(MaxPooling2D(pool_size=2, strides=2))"
   ]
  },
  {
   "cell_type": "code",
   "execution_count": 12,
   "id": "288b59db-8454-4dd7-a626-1aa88309fb4d",
   "metadata": {
    "scrolled": true
   },
   "outputs": [],
   "source": [
    "model.add(Conv2D(filters=256,kernel_size=3,padding='same',activation='relu'))\n",
    "model.add(Conv2D(filters=256,kernel_size=3,activation='relu'))\n",
    "model.add(MaxPooling2D(pool_size=2, strides=2))"
   ]
  },
  {
   "cell_type": "code",
   "execution_count": 13,
   "id": "f3adef2d-b8e5-4326-832c-96468052c62e",
   "metadata": {},
   "outputs": [],
   "source": [
    "model.add(Conv2D(filters=512,kernel_size=3,padding='same',activation='relu'))\n",
    "model.add(Conv2D(filters=512,kernel_size=3,activation='relu'))\n",
    "model.add(MaxPooling2D(pool_size=2, strides=2))"
   ]
  },
  {
   "cell_type": "code",
   "execution_count": 14,
   "id": "01638b13-0847-4bdf-b035-f7ad368d431d",
   "metadata": {},
   "outputs": [],
   "source": [
    "model.add(Dropout(0.25)) # To avoid Overfitting"
   ]
  },
  {
   "cell_type": "code",
   "execution_count": 15,
   "id": "7bed3f0f-a98e-480a-ab71-0137b0ed1bb6",
   "metadata": {},
   "outputs": [],
   "source": [
    "model.add(Flatten())"
   ]
  },
  {
   "cell_type": "code",
   "execution_count": 16,
   "id": "d601880f-bac8-4afa-ac4a-1fea10b7e22a",
   "metadata": {},
   "outputs": [],
   "source": [
    "model.add(Dense(units=1700,activation='relu'))"
   ]
  },
  {
   "cell_type": "code",
   "execution_count": 17,
   "id": "197d5bd9-becf-4713-b0cf-ae2c21b83cca",
   "metadata": {},
   "outputs": [],
   "source": [
    "model.add(Dropout(0.4))"
   ]
  },
  {
   "cell_type": "code",
   "execution_count": 18,
   "id": "1c802c23-57c6-42a1-a5cb-06845cc8b9c6",
   "metadata": {},
   "outputs": [],
   "source": [
    "#Output Layer\n",
    "model.add(Dense(units=8,activation='softmax'))"
   ]
  },
  {
   "cell_type": "markdown",
   "id": "11d17e6e-965e-421b-921c-6f2086b65c8c",
   "metadata": {},
   "source": [
    "## Compiling Model"
   ]
  },
  {
   "cell_type": "code",
   "execution_count": 20,
   "id": "25e5176b-a85c-48cf-ab07-6b3f515281e7",
   "metadata": {},
   "outputs": [],
   "source": [
    "model.compile(\n",
    "    optimizer=tf.keras.optimizers.Adam(learning_rate=0.0001),\n",
    "    loss='categorical_crossentropy',\n",
    "    metrics=['accuracy']\n",
    ")"
   ]
  },
  {
   "cell_type": "code",
   "execution_count": 21,
   "id": "90d66b6a-570b-470d-a31e-bcc847018fc6",
   "metadata": {},
   "outputs": [
    {
     "name": "stdout",
     "output_type": "stream",
     "text": [
      "Model: \"sequential\"\n",
      "_________________________________________________________________\n",
      " Layer (type)                Output Shape              Param #   \n",
      "=================================================================\n",
      " conv2d (Conv2D)             (None, 128, 128, 32)      896       \n",
      "                                                                 \n",
      " conv2d_1 (Conv2D)           (None, 126, 126, 32)      9248      \n",
      "                                                                 \n",
      " max_pooling2d (MaxPooling2D  (None, 63, 63, 32)       0         \n",
      " )                                                               \n",
      "                                                                 \n",
      " conv2d_2 (Conv2D)           (None, 63, 63, 64)        18496     \n",
      "                                                                 \n",
      " conv2d_3 (Conv2D)           (None, 61, 61, 64)        36928     \n",
      "                                                                 \n",
      " max_pooling2d_1 (MaxPooling  (None, 30, 30, 64)       0         \n",
      " 2D)                                                             \n",
      "                                                                 \n",
      " conv2d_4 (Conv2D)           (None, 30, 30, 128)       73856     \n",
      "                                                                 \n",
      " conv2d_5 (Conv2D)           (None, 28, 28, 128)       147584    \n",
      "                                                                 \n",
      " max_pooling2d_2 (MaxPooling  (None, 14, 14, 128)      0         \n",
      " 2D)                                                             \n",
      "                                                                 \n",
      " conv2d_6 (Conv2D)           (None, 14, 14, 256)       295168    \n",
      "                                                                 \n",
      " conv2d_7 (Conv2D)           (None, 12, 12, 256)       590080    \n",
      "                                                                 \n",
      " max_pooling2d_3 (MaxPooling  (None, 6, 6, 256)        0         \n",
      " 2D)                                                             \n",
      "                                                                 \n",
      " conv2d_8 (Conv2D)           (None, 6, 6, 512)         1180160   \n",
      "                                                                 \n",
      " conv2d_9 (Conv2D)           (None, 4, 4, 512)         2359808   \n",
      "                                                                 \n",
      " max_pooling2d_4 (MaxPooling  (None, 2, 2, 512)        0         \n",
      " 2D)                                                             \n",
      "                                                                 \n",
      " dropout (Dropout)           (None, 2, 2, 512)         0         \n",
      "                                                                 \n",
      " flatten (Flatten)           (None, 2048)              0         \n",
      "                                                                 \n",
      " dense (Dense)               (None, 1700)              3483300   \n",
      "                                                                 \n",
      " dropout_1 (Dropout)         (None, 1700)              0         \n",
      "                                                                 \n",
      " dense_1 (Dense)             (None, 8)                 13608     \n",
      "                                                                 \n",
      "=================================================================\n",
      "Total params: 8,209,132\n",
      "Trainable params: 8,209,132\n",
      "Non-trainable params: 0\n",
      "_________________________________________________________________\n"
     ]
    }
   ],
   "source": [
    "model.summary()"
   ]
  },
  {
   "cell_type": "code",
   "execution_count": 22,
   "id": "f8b72dfd",
   "metadata": {},
   "outputs": [
    {
     "name": "stdout",
     "output_type": "stream",
     "text": [
      "Model: \"sequential\"\n",
      "_________________________________________________________________\n",
      " Layer (type)                Output Shape              Param #   \n",
      "=================================================================\n",
      " conv2d (Conv2D)             (None, 128, 128, 32)      896       \n",
      "                                                                 \n",
      " conv2d_1 (Conv2D)           (None, 126, 126, 32)      9248      \n",
      "                                                                 \n",
      " max_pooling2d (MaxPooling2D  (None, 63, 63, 32)       0         \n",
      " )                                                               \n",
      "                                                                 \n",
      " conv2d_2 (Conv2D)           (None, 63, 63, 64)        18496     \n",
      "                                                                 \n",
      " conv2d_3 (Conv2D)           (None, 61, 61, 64)        36928     \n",
      "                                                                 \n",
      " max_pooling2d_1 (MaxPooling  (None, 30, 30, 64)       0         \n",
      " 2D)                                                             \n",
      "                                                                 \n",
      " conv2d_4 (Conv2D)           (None, 30, 30, 128)       73856     \n",
      "                                                                 \n",
      " conv2d_5 (Conv2D)           (None, 28, 28, 128)       147584    \n",
      "                                                                 \n",
      " max_pooling2d_2 (MaxPooling  (None, 14, 14, 128)      0         \n",
      " 2D)                                                             \n",
      "                                                                 \n",
      " conv2d_6 (Conv2D)           (None, 14, 14, 256)       295168    \n",
      "                                                                 \n",
      " conv2d_7 (Conv2D)           (None, 12, 12, 256)       590080    \n",
      "                                                                 \n",
      " max_pooling2d_3 (MaxPooling  (None, 6, 6, 256)        0         \n",
      " 2D)                                                             \n",
      "                                                                 \n",
      " conv2d_8 (Conv2D)           (None, 6, 6, 512)         1180160   \n",
      "                                                                 \n",
      " conv2d_9 (Conv2D)           (None, 4, 4, 512)         2359808   \n",
      "                                                                 \n",
      " max_pooling2d_4 (MaxPooling  (None, 2, 2, 512)        0         \n",
      " 2D)                                                             \n",
      "                                                                 \n",
      " dropout (Dropout)           (None, 2, 2, 512)         0         \n",
      "                                                                 \n",
      " flatten (Flatten)           (None, 2048)              0         \n",
      "                                                                 \n",
      " dense (Dense)               (None, 1700)              3483300   \n",
      "                                                                 \n",
      " dropout_1 (Dropout)         (None, 1700)              0         \n",
      "                                                                 \n",
      " dense_1 (Dense)             (None, 8)                 13608     \n",
      "                                                                 \n",
      "=================================================================\n",
      "Total params: 8,209,132\n",
      "Trainable params: 8,209,132\n",
      "Non-trainable params: 0\n",
      "_________________________________________________________________\n"
     ]
    }
   ],
   "source": [
    "model.summary()"
   ]
  },
  {
   "cell_type": "code",
   "execution_count": 23,
   "id": "e502c41b",
   "metadata": {},
   "outputs": [],
   "source": [
    "###Check if GPU is available"
   ]
  },
  {
   "cell_type": "code",
   "execution_count": null,
   "id": "65bd6d4f",
   "metadata": {},
   "outputs": [],
   "source": []
  },
  {
   "cell_type": "code",
   "execution_count": null,
   "id": "ba35470b",
   "metadata": {},
   "outputs": [],
   "source": []
  },
  {
   "cell_type": "markdown",
   "id": "1d5aab6f-2aa7-4ba1-89aa-16d871a5b21b",
   "metadata": {},
   "source": [
    "## Model Traning"
   ]
  },
  {
   "cell_type": "code",
   "execution_count": 23,
   "id": "f32e2398-7190-4d14-994a-c466fcce6822",
   "metadata": {},
   "outputs": [
    {
     "name": "stdout",
     "output_type": "stream",
     "text": [
      "Epoch 1/10\n",
      "578/578 [==============================] - 91s 144ms/step - loss: 1.0121 - accuracy: 0.5949 - val_loss: 0.6154 - val_accuracy: 0.7763\n",
      "Epoch 2/10\n",
      "578/578 [==============================] - 81s 138ms/step - loss: 0.4370 - accuracy: 0.8372 - val_loss: 0.2966 - val_accuracy: 0.8840\n",
      "Epoch 3/10\n",
      "578/578 [==============================] - 79s 135ms/step - loss: 0.2454 - accuracy: 0.9136 - val_loss: 0.1459 - val_accuracy: 0.9569\n",
      "Epoch 4/10\n",
      "578/578 [==============================] - 83s 141ms/step - loss: 0.1555 - accuracy: 0.9440 - val_loss: 0.1416 - val_accuracy: 0.9506\n",
      "Epoch 5/10\n",
      "578/578 [==============================] - 79s 135ms/step - loss: 0.1190 - accuracy: 0.9589 - val_loss: 0.1714 - val_accuracy: 0.9413\n",
      "Epoch 6/10\n",
      "578/578 [==============================] - 78s 133ms/step - loss: 0.0933 - accuracy: 0.9687 - val_loss: 0.0877 - val_accuracy: 0.9726\n",
      "Epoch 7/10\n",
      "578/578 [==============================] - 78s 134ms/step - loss: 0.0607 - accuracy: 0.9789 - val_loss: 0.0803 - val_accuracy: 0.9741\n",
      "Epoch 8/10\n",
      "578/578 [==============================] - 76s 130ms/step - loss: 0.0620 - accuracy: 0.9793 - val_loss: 0.0809 - val_accuracy: 0.9731\n",
      "Epoch 9/10\n",
      "578/578 [==============================] - 77s 131ms/step - loss: 0.0406 - accuracy: 0.9872 - val_loss: 0.0641 - val_accuracy: 0.9878\n",
      "Epoch 10/10\n",
      "578/578 [==============================] - 76s 131ms/step - loss: 0.0595 - accuracy: 0.9805 - val_loss: 0.0610 - val_accuracy: 0.9858\n"
     ]
    }
   ],
   "source": [
    "training_history = model.fit(x=training_set,validation_data=validation_set,epochs=10)"
   ]
  },
  {
   "cell_type": "markdown",
   "id": "59c86388-ebd8-44ad-b57b-6cbe00ca1c72",
   "metadata": {},
   "source": [
    "## Evaluating Model"
   ]
  },
  {
   "cell_type": "code",
   "execution_count": 24,
   "id": "87af63a8-5bcd-44eb-ad92-61b0a533edfd",
   "metadata": {},
   "outputs": [
    {
     "name": "stdout",
     "output_type": "stream",
     "text": [
      "578/578 [==============================] - 59s 99ms/step - loss: 0.0211 - accuracy: 0.9942\n"
     ]
    }
   ],
   "source": [
    "#Training set Accuracy\n",
    "train_loss, train_acc = model.evaluate(training_set)"
   ]
  },
  {
   "cell_type": "code",
   "execution_count": 25,
   "id": "a2e4bb00-7b68-4a29-a6c4-adcb87b21410",
   "metadata": {},
   "outputs": [
    {
     "name": "stdout",
     "output_type": "stream",
     "text": [
      "0.021104423329234123 0.9941526651382446\n"
     ]
    }
   ],
   "source": [
    "print(train_loss,train_acc)"
   ]
  },
  {
   "cell_type": "code",
   "execution_count": 26,
   "id": "3e617610-1726-4f80-8ad3-31cfbe2cef66",
   "metadata": {},
   "outputs": [
    {
     "name": "stdout",
     "output_type": "stream",
     "text": [
      "128/128 [==============================] - 16s 116ms/step - loss: 0.0610 - accuracy: 0.9858\n"
     ]
    }
   ],
   "source": [
    "#Model on validation set\n",
    "val_loss, val_acc = model.evaluate(validation_set)"
   ]
  },
  {
   "cell_type": "code",
   "execution_count": 28,
   "id": "33651eb5-ec89-4190-9e59-24b2c7804715",
   "metadata": {},
   "outputs": [
    {
     "name": "stdout",
     "output_type": "stream",
     "text": [
      "0.06099150329828262 0.9858052134513855\n"
     ]
    }
   ],
   "source": [
    "print(val_loss,val_acc)"
   ]
  },
  {
   "cell_type": "code",
   "execution_count": null,
   "id": "4e870a75-e2ca-487a-b786-c336b36aaf03",
   "metadata": {},
   "outputs": [],
   "source": []
  },
  {
   "cell_type": "markdown",
   "id": "d5ff0600-c8f9-48f0-99de-b781f2e7861f",
   "metadata": {},
   "source": [
    "## Saving Model"
   ]
  },
  {
   "cell_type": "code",
   "execution_count": 29,
   "id": "13758137-6ff6-4382-bbc0-988b62e96d43",
   "metadata": {},
   "outputs": [
    {
     "name": "stdout",
     "output_type": "stream",
     "text": [
      "Training Accuracy: 0.9942\n"
     ]
    }
   ],
   "source": [
    "# First check if the model has been trained properly\n",
    "print(f\"Training Accuracy: {train_acc:.4f}\")\n",
    "\n"
   ]
  },
  {
   "cell_type": "code",
   "execution_count": 30,
   "id": "33620396",
   "metadata": {},
   "outputs": [
    {
     "name": "stdout",
     "output_type": "stream",
     "text": [
      "Model saved successfully at: trained_model_v20250520_053852.keras\n"
     ]
    }
   ],
   "source": [
    "# Save the model with a clear version number or timestamp\n",
    "import datetime\n",
    "timestamp = datetime.datetime.now().strftime(\"%Y%m%d_%H%M%S\")\n",
    "model_path = f'trained_model_v{timestamp}.keras'\n",
    "model.save(model_path)\n",
    "\n",
    "# Verify the save was successful\n",
    "print(f\"Model saved successfully at: {model_path}\")"
   ]
  },
  {
   "cell_type": "code",
   "execution_count": 32,
   "id": "fae87070",
   "metadata": {},
   "outputs": [
    {
     "name": "stdout",
     "output_type": "stream",
     "text": [
      "Model: \"sequential\"\n",
      "_________________________________________________________________\n",
      " Layer (type)                Output Shape              Param #   \n",
      "=================================================================\n",
      " conv2d (Conv2D)             (None, 128, 128, 32)      896       \n",
      "                                                                 \n",
      " conv2d_1 (Conv2D)           (None, 126, 126, 32)      9248      \n",
      "                                                                 \n",
      " max_pooling2d (MaxPooling2D  (None, 63, 63, 32)       0         \n",
      " )                                                               \n",
      "                                                                 \n",
      " conv2d_2 (Conv2D)           (None, 63, 63, 64)        18496     \n",
      "                                                                 \n",
      " conv2d_3 (Conv2D)           (None, 61, 61, 64)        36928     \n",
      "                                                                 \n",
      " max_pooling2d_1 (MaxPooling  (None, 30, 30, 64)       0         \n",
      " 2D)                                                             \n",
      "                                                                 \n",
      " conv2d_4 (Conv2D)           (None, 30, 30, 128)       73856     \n",
      "                                                                 \n",
      " conv2d_5 (Conv2D)           (None, 28, 28, 128)       147584    \n",
      "                                                                 \n",
      " max_pooling2d_2 (MaxPooling  (None, 14, 14, 128)      0         \n",
      " 2D)                                                             \n",
      "                                                                 \n",
      " conv2d_6 (Conv2D)           (None, 14, 14, 256)       295168    \n",
      "                                                                 \n",
      " conv2d_7 (Conv2D)           (None, 12, 12, 256)       590080    \n",
      "                                                                 \n",
      " max_pooling2d_3 (MaxPooling  (None, 6, 6, 256)        0         \n",
      " 2D)                                                             \n",
      "                                                                 \n",
      " conv2d_8 (Conv2D)           (None, 6, 6, 512)         1180160   \n",
      "                                                                 \n",
      " conv2d_9 (Conv2D)           (None, 4, 4, 512)         2359808   \n",
      "                                                                 \n",
      " max_pooling2d_4 (MaxPooling  (None, 2, 2, 512)        0         \n",
      " 2D)                                                             \n",
      "                                                                 \n",
      " dropout (Dropout)           (None, 2, 2, 512)         0         \n",
      "                                                                 \n",
      " flatten (Flatten)           (None, 2048)              0         \n",
      "                                                                 \n",
      " dense (Dense)               (None, 1700)              3483300   \n",
      "                                                                 \n",
      " dropout_1 (Dropout)         (None, 1700)              0         \n",
      "                                                                 \n",
      " dense_1 (Dense)             (None, 8)                 13608     \n",
      "                                                                 \n",
      "=================================================================\n",
      "Total params: 8,209,132\n",
      "Trainable params: 8,209,132\n",
      "Non-trainable params: 0\n",
      "_________________________________________________________________\n"
     ]
    },
    {
     "ename": "NameError",
     "evalue": "name 'test_set' is not defined",
     "output_type": "error",
     "traceback": [
      "\u001b[1;31m---------------------------------------------------------------------------\u001b[0m",
      "\u001b[1;31mNameError\u001b[0m                                 Traceback (most recent call last)",
      "Cell \u001b[1;32mIn[32], line 10\u001b[0m\n\u001b[0;32m      7\u001b[0m model\u001b[38;5;241m.\u001b[39msummary()\n\u001b[0;32m      9\u001b[0m \u001b[38;5;66;03m# If you want to verify the model works, you can evaluate it\u001b[39;00m\n\u001b[1;32m---> 10\u001b[0m test_loss, test_acc \u001b[38;5;241m=\u001b[39m model\u001b[38;5;241m.\u001b[39mevaluate(\u001b[43mtest_set\u001b[49m)\n\u001b[0;32m     11\u001b[0m \u001b[38;5;28mprint\u001b[39m(\u001b[38;5;124mf\u001b[39m\u001b[38;5;124m\"\u001b[39m\u001b[38;5;124mTest accuracy: \u001b[39m\u001b[38;5;132;01m{\u001b[39;00mtest_acc\u001b[38;5;132;01m:\u001b[39;00m\u001b[38;5;124m.4f\u001b[39m\u001b[38;5;132;01m}\u001b[39;00m\u001b[38;5;124m\"\u001b[39m)\n",
      "\u001b[1;31mNameError\u001b[0m: name 'test_set' is not defined"
     ]
    }
   ],
   "source": [
    "import tensorflow as tf\n",
    "\n",
    "# Load the saved model\n",
    "model = tf.keras.models.load_model('trained_model.keras')\n",
    "\n",
    "# Verify the model architecture\n",
    "model.summary()\n",
    "\n",
    "# If you want to verify the model works, you can evaluate it\n",
    "test_loss, test_acc = model.evaluate(test_set)\n",
    "print(f\"Test accuracy: {test_acc:.4f}\")"
   ]
  },
  {
   "cell_type": "code",
   "execution_count": null,
   "id": "4d884b50",
   "metadata": {},
   "outputs": [],
   "source": [
    "# Then save the model\n",
    "## model.save('trained_model.keras')"
   ]
  },
  {
   "cell_type": "code",
   "execution_count": 33,
   "id": "c3d33a7a-8b3d-4325-8bf2-8372e35203da",
   "metadata": {},
   "outputs": [
    {
     "data": {
      "text/plain": [
       "{'loss': [1.0121173858642578,\n",
       "  0.43703851103782654,\n",
       "  0.24540682137012482,\n",
       "  0.15552100539207458,\n",
       "  0.11900190263986588,\n",
       "  0.0933084711432457,\n",
       "  0.06071579083800316,\n",
       "  0.06201012432575226,\n",
       "  0.04056691750884056,\n",
       "  0.05946183577179909],\n",
       " 'accuracy': [0.5948565006256104,\n",
       "  0.8372495770454407,\n",
       "  0.913589596748352,\n",
       "  0.9439631700515747,\n",
       "  0.9588521718978882,\n",
       "  0.9687060117721558,\n",
       "  0.9789388179779053,\n",
       "  0.9792636632919312,\n",
       "  0.9871683716773987,\n",
       "  0.9805089235305786],\n",
       " 'val_loss': [0.6153826713562012,\n",
       "  0.2965987026691437,\n",
       "  0.1459350287914276,\n",
       "  0.1415618360042572,\n",
       "  0.17143668234348297,\n",
       "  0.08769594132900238,\n",
       "  0.08029934763908386,\n",
       "  0.08085829764604568,\n",
       "  0.06410612910985947,\n",
       "  0.06099151074886322],\n",
       " 'val_accuracy': [0.7763093709945679,\n",
       "  0.8839941024780273,\n",
       "  0.9569261074066162,\n",
       "  0.9505628943443298,\n",
       "  0.9412628412246704,\n",
       "  0.9725893139839172,\n",
       "  0.9740577340126038,\n",
       "  0.9730787873268127,\n",
       "  0.9877631068229675,\n",
       "  0.9858052134513855]}"
      ]
     },
     "execution_count": 33,
     "metadata": {},
     "output_type": "execute_result"
    }
   ],
   "source": [
    "training_history.history"
   ]
  },
  {
   "cell_type": "code",
   "execution_count": 34,
   "id": "35abc364-5694-4b8a-83c2-43a85ccf38bb",
   "metadata": {},
   "outputs": [],
   "source": [
    "#Recording History in json\n",
    "import json\n",
    "with open(\"training_hist.json\",\"w\") as f:\n",
    "    json.dump(training_history.history,f)"
   ]
  },
  {
   "cell_type": "code",
   "execution_count": 35,
   "id": "c136cfcf-8352-4aea-8501-02e8ba298909",
   "metadata": {},
   "outputs": [
    {
     "data": {
      "text/plain": [
       "[0.7763093709945679,\n",
       " 0.8839941024780273,\n",
       " 0.9569261074066162,\n",
       " 0.9505628943443298,\n",
       " 0.9412628412246704,\n",
       " 0.9725893139839172,\n",
       " 0.9740577340126038,\n",
       " 0.9730787873268127,\n",
       " 0.9877631068229675,\n",
       " 0.9858052134513855]"
      ]
     },
     "execution_count": 35,
     "metadata": {},
     "output_type": "execute_result"
    }
   ],
   "source": [
    "training_history.history['val_accuracy']"
   ]
  },
  {
   "cell_type": "markdown",
   "id": "bfeb343e-b081-4ff0-8c42-1d5637b5cbc1",
   "metadata": {},
   "source": [
    "### Accuracy Visualization"
   ]
  },
  {
   "cell_type": "code",
   "execution_count": 36,
   "id": "d0f1ba93-ff9b-4205-8c63-71233389fcc4",
   "metadata": {},
   "outputs": [
    {
     "data": {
      "image/png": "[encoded data removed]",
      "text/plain": [
       "<Figure size 640x480 with 1 Axes>"
      ]
     },
     "metadata": {},
     "output_type": "display_data"
    }
   ],
   "source": [
    "epochs = [i for i in range (1,11)]\n",
    "plt.plot(epochs,training_history.history['accuracy'],color='red', label='Training Accuracy')\n",
    "plt.plot(epochs,training_history.history['val_accuracy'],color='blue', label='Validation Accuracy')\n",
    "plt.xlabel(\"No. of Epochs\")\n",
    "plt.ylabel(\"Accuracy Result\")\n",
    "plt.title(\"Visualization of Accuracy Result\")\n",
    "plt.legend()\n",
    "plt.show()"
   ]
  },
  {
   "cell_type": "markdown",
   "id": "bbe961a6-dc93-4efd-87b6-d76a27537e2a",
   "metadata": {},
   "source": [
    "## Metrics for model evaluation"
   ]
  },
  {
   "cell_type": "code",
   "execution_count": 37,
   "id": "eebb1a7d-53bb-452d-a350-649b85672cab",
   "metadata": {},
   "outputs": [
    {
     "data": {
      "text/plain": [
       "['Anthracnose',\n",
       " 'algal leaf',\n",
       " 'bird eye spot',\n",
       " 'brown blight',\n",
       " 'gray light',\n",
       " 'healthy',\n",
       " 'red leaf spot',\n",
       " 'white spot']"
      ]
     },
     "execution_count": 37,
     "metadata": {},
     "output_type": "execute_result"
    }
   ],
   "source": [
    "class_name = validation_set.class_names\n",
    "class_name"
   ]
  },
  {
   "cell_type": "code",
   "execution_count": null,
   "id": "24f57305-4d15-4f71-b2c7-d5a2c6d399f3",
   "metadata": {},
   "outputs": [],
   "source": []
  },
  {
   "cell_type": "code",
   "execution_count": 39,
   "id": "bdb66a46-74fc-4a18-86de-9203ce7a594c",
   "metadata": {},
   "outputs": [
    {
     "name": "stdout",
     "output_type": "stream",
     "text": [
      "Found 4086 files belonging to 8 classes.\n"
     ]
    }
   ],
   "source": [
    "test_set = tf.keras.utils.image_dataset_from_directory(\n",
    "    'valid',\n",
    "    labels=\"inferred\",\n",
    "    label_mode=\"categorical\",\n",
    "    class_names=None,\n",
    "    color_mode=\"rgb\",\n",
    "    batch_size=32,\n",
    "    image_size=(128, 128),\n",
    "    shuffle=False,\n",
    "    seed=None,\n",
    "    validation_split=None,\n",
    "    subset=None,\n",
    "    interpolation=\"bilinear\",\n",
    "    follow_links=False,\n",
    "    crop_to_aspect_ratio=False\n",
    ")"
   ]
  },
  {
   "cell_type": "code",
   "execution_count": 40,
   "id": "8aeebd03-6347-4d31-a807-7d7b29ce747a",
   "metadata": {},
   "outputs": [
    {
     "name": "stdout",
     "output_type": "stream",
     "text": [
      "128/128 [==============================] - 10s 75ms/step\n"
     ]
    },
    {
     "data": {
      "text/plain": [
       "(array([[8.4519327e-01, 2.5145125e-04, 1.4653005e-01, ..., 2.4347981e-04,\n",
       "         2.8507510e-04, 5.5473356e-04],\n",
       "        [8.4519327e-01, 2.5145125e-04, 1.4653005e-01, ..., 2.4347981e-04,\n",
       "         2.8507510e-04, 5.5473356e-04],\n",
       "        [8.0348015e-02, 1.5428202e-04, 3.6592231e-04, ..., 7.9093939e-01,\n",
       "         1.0204238e-04, 5.2754162e-04],\n",
       "        ...,\n",
       "        [8.7136158e-08, 2.0155082e-07, 2.8255316e-08, ..., 1.0673941e-08,\n",
       "         9.8343821e-07, 5.6345491e-03],\n",
       "        [1.7210627e-05, 2.8348453e-02, 1.9964934e-06, ..., 5.6986105e-06,\n",
       "         4.3518459e-05, 6.9013201e-02],\n",
       "        [1.7210627e-05, 2.8348453e-02, 1.9964934e-06, ..., 5.6986105e-06,\n",
       "         4.3518459e-05, 6.9013201e-02]], dtype=float32),\n",
       " (4086, 8))"
      ]
     },
     "execution_count": 40,
     "metadata": {},
     "output_type": "execute_result"
    }
   ],
   "source": [
    "y_pred = model.predict(test_set)\n",
    "y_pred,y_pred.shape"
   ]
  },
  {
   "cell_type": "code",
   "execution_count": 41,
   "id": "5b2a4d28-a80f-49ac-a988-0a95de9dd091",
   "metadata": {},
   "outputs": [],
   "source": [
    "predicted_categories = tf.argmax(y_pred,axis=1)"
   ]
  },
  {
   "cell_type": "code",
   "execution_count": 42,
   "id": "82bb98bb-05e7-4ed4-9a8b-0aca2d1fa11d",
   "metadata": {},
   "outputs": [
    {
     "data": {
      "text/plain": [
       "<tf.Tensor: shape=(4086,), dtype=int64, numpy=array([0, 0, 5, ..., 3, 3, 3], dtype=int64)>"
      ]
     },
     "execution_count": 42,
     "metadata": {},
     "output_type": "execute_result"
    }
   ],
   "source": [
    "predicted_categories"
   ]
  },
  {
   "cell_type": "code",
   "execution_count": 43,
   "id": "8e69e42e-e0e1-4672-b615-66d013cb21db",
   "metadata": {},
   "outputs": [
    {
     "data": {
      "text/plain": [
       "<tf.Tensor: shape=(4086, 8), dtype=float32, numpy=\n",
       "array([[1., 0., 0., ..., 0., 0., 0.],\n",
       "       [1., 0., 0., ..., 0., 0., 0.],\n",
       "       [1., 0., 0., ..., 0., 0., 0.],\n",
       "       ...,\n",
       "       [0., 0., 0., ..., 0., 0., 1.],\n",
       "       [0., 0., 0., ..., 0., 0., 1.],\n",
       "       [0., 0., 0., ..., 0., 0., 1.]], dtype=float32)>"
      ]
     },
     "execution_count": 43,
     "metadata": {},
     "output_type": "execute_result"
    }
   ],
   "source": [
    "true_categories = tf.concat([y for x,y in test_set],axis=0)\n",
    "true_categories"
   ]
  },
  {
   "cell_type": "code",
   "execution_count": 44,
   "id": "1b9fe226-5626-4b26-8062-d1679c12d4cb",
   "metadata": {},
   "outputs": [
    {
     "data": {
      "text/plain": [
       "<tf.Tensor: shape=(4086,), dtype=int64, numpy=array([0, 0, 0, ..., 7, 7, 7], dtype=int64)>"
      ]
     },
     "execution_count": 44,
     "metadata": {},
     "output_type": "execute_result"
    }
   ],
   "source": [
    "Y_true = tf.argmax(true_categories,axis=1)\n",
    "Y_true"
   ]
  },
  {
   "cell_type": "code",
   "execution_count": null,
   "id": "7b288bcd-20db-441d-90c9-5c68d518d5a3",
   "metadata": {},
   "outputs": [],
   "source": []
  },
  {
   "cell_type": "code",
   "execution_count": 45,
   "id": "804744a7-8946-41ee-ab69-768b82107ab2",
   "metadata": {},
   "outputs": [],
   "source": [
    "from sklearn.metrics import classification_report,confusion_matrix"
   ]
  },
  {
   "cell_type": "code",
   "execution_count": 46,
   "id": "3540e4c7-d2c3-4b47-b937-bcd75c06693f",
   "metadata": {},
   "outputs": [
    {
     "name": "stdout",
     "output_type": "stream",
     "text": [
      "               precision    recall  f1-score   support\n",
      "\n",
      "  Anthracnose       0.98      0.90      0.94       598\n",
      "   algal leaf       1.00      0.94      0.97       464\n",
      "bird eye spot       0.95      0.98      0.97       588\n",
      " brown blight       0.88      0.90      0.89       414\n",
      "   gray light       0.86      0.93      0.89       420\n",
      "      healthy       0.98      1.00      0.99      1088\n",
      "red leaf spot       0.97      0.99      0.98       462\n",
      "   white spot       0.95      0.77      0.85        52\n",
      "\n",
      "     accuracy                           0.95      4086\n",
      "    macro avg       0.95      0.93      0.93      4086\n",
      " weighted avg       0.95      0.95      0.95      4086\n",
      "\n"
     ]
    }
   ],
   "source": [
    "print(classification_report(Y_true,predicted_categories,target_names=class_name))"
   ]
  },
  {
   "cell_type": "code",
   "execution_count": 47,
   "id": "eff8cb8c-e0fc-4887-9da2-453eddad895e",
   "metadata": {},
   "outputs": [
    {
     "data": {
      "text/plain": [
       "array([[ 536,    0,   26,    2,   16,   18,    0,    0],\n",
       "       [   0,  436,    0,    8,   12,    2,    4,    2],\n",
       "       [  12,    0,  576,    0,    0,    0,    0,    0],\n",
       "       [   0,    0,    0,  374,   34,    0,    6,    0],\n",
       "       [   0,    0,    2,   28,  390,    0,    0,    0],\n",
       "       [   0,    0,    0,    0,    2, 1084,    2,    0],\n",
       "       [   0,    0,    0,    4,    0,    0,  458,    0],\n",
       "       [   0,    0,    0,   10,    2,    0,    0,   40]], dtype=int64)"
      ]
     },
     "execution_count": 47,
     "metadata": {},
     "output_type": "execute_result"
    }
   ],
   "source": [
    "cm = confusion_matrix(Y_true,predicted_categories)\n",
    "cm"
   ]
  },
  {
   "cell_type": "code",
   "execution_count": null,
   "id": "ed052de5-7d98-42a9-879c-c836e5b63e18",
   "metadata": {},
   "outputs": [],
   "source": []
  },
  {
   "cell_type": "markdown",
   "id": "3d7bc6f4-6137-478e-8eee-7ac290502527",
   "metadata": {},
   "source": [
    "### confusion_matrix visualiation"
   ]
  },
  {
   "cell_type": "code",
   "execution_count": 48,
   "id": "026d5493-5e84-46fa-a834-8e925897ae1b",
   "metadata": {},
   "outputs": [
    {
     "data": {
      "text/plain": [
       "<Axes: >"
      ]
     },
     "execution_count": 48,
     "metadata": {},
     "output_type": "execute_result"
    },
    {
     "data": {
      "image/png": "[encoded data removed]",
      "text/plain": [
       "<Figure size 640x480 with 2 Axes>"
      ]
     },
     "metadata": {},
     "output_type": "display_data"
    }
   ],
   "source": [
    "sns.heatmap(cm)"
   ]
  },
  {
   "cell_type": "code",
   "execution_count": null,
   "id": "98cd9c37-e857-4591-84ff-a29b2004efc2",
   "metadata": {},
   "outputs": [],
   "source": []
  },
  {
   "cell_type": "code",
   "execution_count": null,
   "id": "2befcda0-a3ce-4efb-8d9f-2ad6e260946c",
   "metadata": {},
   "outputs": [],
   "source": []
  },
  {
   "cell_type": "code",
   "execution_count": null,
   "id": "7be275b4-ced7-4bd9-9349-f0686f86cf81",
   "metadata": {},
   "outputs": [],
   "source": []
  },
  {
   "cell_type": "code",
   "execution_count": null,
   "id": "8bac8c6a-907e-46b2-859a-1549b0d56f06",
   "metadata": {},
   "outputs": [],
   "source": []
  },
  {
   "cell_type": "code",
   "execution_count": null,
   "id": "58397bd8-4740-4c17-8d88-19800a26b27e",
   "metadata": {},
   "outputs": [],
   "source": []
  },
  {
   "cell_type": "code",
   "execution_count": null,
   "id": "7ea631e8-8d5b-49bd-bb8a-3dd571231353",
   "metadata": {},
   "outputs": [],
   "source": []
  },
  {
   "cell_type": "code",
   "execution_count": null,
   "id": "165a7c24-aa33-43dc-b8ca-85bad86e232f",
   "metadata": {},
   "outputs": [],
   "source": []
  },
  {
   "cell_type": "code",
   "execution_count": null,
   "id": "c5ea7fe8-de7c-4b54-a2ce-2466f9235967",
   "metadata": {},
   "outputs": [],
   "source": []
  },
  {
   "cell_type": "code",
   "execution_count": null,
   "id": "822af6cf-26f3-4e88-84bd-03b537bbaf4e",
   "metadata": {},
   "outputs": [],
   "source": []
  },
  {
   "cell_type": "code",
   "execution_count": null,
   "id": "cf29e70d-2029-4c93-9f7a-f21b67776be7",
   "metadata": {},
   "outputs": [],
   "source": []
  },
  {
   "cell_type": "code",
   "execution_count": null,
   "id": "eaf0ecd8-3bb9-4c0b-91ef-f2ef04295a44",
   "metadata": {},
   "outputs": [],
   "source": []
  },
  {
   "cell_type": "code",
   "execution_count": null,
   "id": "68df913f-7990-4684-a7e6-03147a5c274f",
   "metadata": {},
   "outputs": [],
   "source": []
  },
  {
   "cell_type": "code",
   "execution_count": null,
   "id": "82f8b736-a0c7-4a58-ad9f-a9427f8897f1",
   "metadata": {},
   "outputs": [],
   "source": []
  },
  {
   "cell_type": "code",
   "execution_count": null,
   "id": "1890b19e-3175-47ed-bf35-bd4954cd912d",
   "metadata": {},
   "outputs": [],
   "source": []
  },
  {
   "cell_type": "code",
   "execution_count": null,
   "id": "243fb6b9-20f9-4a3a-bc70-78ec333bc50b",
   "metadata": {},
   "outputs": [],
   "source": []
  },
  {
   "cell_type": "code",
   "execution_count": null,
   "id": "78d46642-e183-40f2-a9bd-1f9aa7d4efc3",
   "metadata": {},
   "outputs": [],
   "source": []
  },
  {
   "cell_type": "code",
   "execution_count": null,
   "id": "a7928247-fd69-407b-ba78-78d9e020e585",
   "metadata": {},
   "outputs": [],
   "source": []
  },
  {
   "cell_type": "code",
   "execution_count": null,
   "id": "311512e4-7c7a-4847-a1cf-c7fe63034e6a",
   "metadata": {},
   "outputs": [],
   "source": []
  },
  {
   "cell_type": "code",
   "execution_count": null,
   "id": "8a828108-057a-4911-b8ae-5bc0176fec35",
   "metadata": {},
   "outputs": [],
   "source": []
  },
  {
   "cell_type": "code",
   "execution_count": null,
   "id": "ef9a35a7-3da0-43fb-b3bb-a2dbd338875e",
   "metadata": {},
   "outputs": [],
   "source": []
  }
 ],
 "metadata": {
  "kernelspec": {
   "display_name": "tf_env",
   "language": "python",
   "name": "python3"
  },
  "language_info": {
   "codemirror_mode": {
    "name": "ipython",
    "version": 3
   },
   "file_extension": ".py",
   "mimetype": "text/x-python",
   "name": "python",
   "nbconvert_exporter": "python",
   "pygments_lexer": "ipython3",
   "version": "3.10.17"
  }
 },
 "nbformat": 4,
 "nbformat_minor": 5
}
