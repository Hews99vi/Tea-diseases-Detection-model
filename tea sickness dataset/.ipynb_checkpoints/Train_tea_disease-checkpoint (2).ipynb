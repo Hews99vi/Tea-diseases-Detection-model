{
 "cells": [
  {
   "cell_type": "markdown",
   "id": "85cd5d45-4a9a-4bc2-a572-9c5fe77826eb",
   "metadata": {},
   "source": [
    "## Importing Libraries"
   ]
  },
  {
   "cell_type": "code",
   "execution_count": 1,
   "id": "88da7290-b350-4c61-9371-97598e9b2f8e",
   "metadata": {},
   "outputs": [],
   "source": [
    "import tensorflow as tf\n",
    "import matplotlib.pyplot as plt\n",
    "import pandas as pd\n",
    "import seaborn as sns"
   ]
  },
  {
   "cell_type": "markdown",
   "id": "e67fc2f1-0ac7-4392-92f0-1d552b29a3b3",
   "metadata": {},
   "source": [
    "## Data Preprocessing"
   ]
  },
  {
   "cell_type": "markdown",
   "id": "18f2d0c9-c4c9-4295-add6-e7fac273f729",
   "metadata": {},
   "source": [
    "## Traning Image Preprocessing"
   ]
  },
  {
   "cell_type": "code",
   "execution_count": 2,
   "id": "e086ef52-e8ef-4a09-9546-3760a45faf2b",
   "metadata": {},
   "outputs": [
    {
     "name": "stdout",
     "output_type": "stream",
     "text": [
      "Found 9235 files belonging to 8 classes.\n"
     ]
    }
   ],
   "source": [
    "training_set = tf.keras.utils.image_dataset_from_directory(\n",
    "    'train',\n",
    "    labels=\"inferred\",\n",
    "    label_mode=\"categorical\",\n",
    "    class_names=None,\n",
    "    color_mode=\"rgb\",\n",
    "    batch_size=32,\n",
    "    image_size=(128, 128),\n",
    "    shuffle=True,\n",
    "    seed=None,\n",
    "    validation_split=None,\n",
    "    subset=None,\n",
    "    interpolation=\"bilinear\",\n",
    "    follow_links=False,\n",
    "    crop_to_aspect_ratio=False\n",
    ")"
   ]
  },
  {
   "cell_type": "markdown",
   "id": "ca0b8f1f-1ae5-497c-a30f-0134109155a6",
   "metadata": {},
   "source": [
    "## Validation Image Preprocessing\n"
   ]
  },
  {
   "cell_type": "code",
   "execution_count": 3,
   "id": "2fe3ff48-2176-4458-82fd-046dcd373dba",
   "metadata": {},
   "outputs": [
    {
     "name": "stdout",
     "output_type": "stream",
     "text": [
      "Found 2043 files belonging to 8 classes.\n"
     ]
    }
   ],
   "source": [
    "validation_set = tf.keras.utils.image_dataset_from_directory(\n",
    "    'valid',\n",
    "    labels=\"inferred\",\n",
    "    label_mode=\"categorical\",\n",
    "    class_names=None,\n",
    "    color_mode=\"rgb\",\n",
    "    batch_size=32,\n",
    "    image_size=(128, 128),\n",
    "    shuffle=True,\n",
    "    seed=None,\n",
    "    validation_split=None,\n",
    "    subset=None,\n",
    "    interpolation=\"bilinear\",\n",
    "    follow_links=False,\n",
    "    crop_to_aspect_ratio=False\n",
    ")\n",
    "\n",
    "\n"
   ]
  },
  {
   "cell_type": "code",
   "execution_count": 4,
   "id": "b837df81-91df-45b8-bdd2-8092dff23af1",
   "metadata": {},
   "outputs": [
    {
     "data": {
      "text/plain": [
       "<BatchDataset element_spec=(TensorSpec(shape=(None, 128, 128, 3), dtype=tf.float32, name=None), TensorSpec(shape=(None, 8), dtype=tf.float32, name=None))>"
      ]
     },
     "execution_count": 4,
     "metadata": {},
     "output_type": "execute_result"
    }
   ],
   "source": [
    "training_set"
   ]
  },
  {
   "cell_type": "code",
   "execution_count": 5,
   "id": "87798d19-d7c6-4757-8c78-9f7c04c33c0f",
   "metadata": {},
   "outputs": [
    {
     "name": "stdout",
     "output_type": "stream",
     "text": [
      "tf.Tensor(\n",
      "[[[[210.        213.        218.       ]\n",
      "   [210.        213.        218.       ]\n",
      "   [210.        213.        218.       ]\n",
      "   ...\n",
      "   [209.        208.        213.       ]\n",
      "   [209.        208.        213.       ]\n",
      "   [209.        208.        213.       ]]\n",
      "\n",
      "  [[210.        213.        218.       ]\n",
      "   [210.        213.        218.       ]\n",
      "   [210.        213.        218.       ]\n",
      "   ...\n",
      "   [209.        208.        213.       ]\n",
      "   [209.        208.        213.       ]\n",
      "   [209.        208.        213.       ]]\n",
      "\n",
      "  [[210.        213.        218.       ]\n",
      "   [210.        213.        218.       ]\n",
      "   [210.        213.        218.       ]\n",
      "   ...\n",
      "   [209.        208.        213.       ]\n",
      "   [209.        208.        213.       ]\n",
      "   [209.        208.        213.       ]]\n",
      "\n",
      "  ...\n",
      "\n",
      "  [[176.5       175.5       180.5      ]\n",
      "   [175.5       174.5       179.5      ]\n",
      "   [175.        174.        179.       ]\n",
      "   ...\n",
      "   [143.75      142.75      147.75     ]\n",
      "   [144.25      143.25      148.25     ]\n",
      "   [143.25      142.25      147.25     ]]\n",
      "\n",
      "  [[174.5       173.5       178.5      ]\n",
      "   [174.25      173.25      178.25     ]\n",
      "   [173.5       172.5       177.5      ]\n",
      "   ...\n",
      "   [142.        141.        146.       ]\n",
      "   [143.        142.        147.       ]\n",
      "   [142.75      141.75      146.75     ]]\n",
      "\n",
      "  [[173.5       172.5       177.5      ]\n",
      "   [173.        172.        177.       ]\n",
      "   [172.25      171.25      176.25     ]\n",
      "   ...\n",
      "   [140.25      139.25      144.25     ]\n",
      "   [142.        141.        146.       ]\n",
      "   [142.        141.        146.       ]]]\n",
      "\n",
      "\n",
      " [[[193.75      174.75      178.75     ]\n",
      "   [193.75      174.75      178.75     ]\n",
      "   [193.1875    176.4375    179.6875   ]\n",
      "   ...\n",
      "   [200.        187.        196.       ]\n",
      "   [200.75      187.75      196.75     ]\n",
      "   [204.25      191.25      200.25     ]]\n",
      "\n",
      "  [[194.25      175.25      179.75     ]\n",
      "   [193.9375    176.        180.3125   ]\n",
      "   [193.5625    177.6875    181.25     ]\n",
      "   ...\n",
      "   [202.4375    189.4375    198.4375   ]\n",
      "   [202.8125    189.8125    198.8125   ]\n",
      "   [205.        192.        201.       ]]\n",
      "\n",
      "  [[196.75      179.25      185.25     ]\n",
      "   [196.25      179.625     185.4375   ]\n",
      "   [196.875     181.75      186.8125   ]\n",
      "   ...\n",
      "   [205.5       192.5       201.5      ]\n",
      "   [204.1875    191.1875    200.1875   ]\n",
      "   [205.25      192.25      201.25     ]]\n",
      "\n",
      "  ...\n",
      "\n",
      "  [[255.        255.        255.       ]\n",
      "   [255.        255.        255.       ]\n",
      "   [255.        255.        255.       ]\n",
      "   ...\n",
      "   [245.9375    224.9375    221.9375   ]\n",
      "   [245.9375    224.9375    221.9375   ]\n",
      "   [244.25      223.25      220.25     ]]\n",
      "\n",
      "  [[255.        255.        255.       ]\n",
      "   [255.        255.        255.       ]\n",
      "   [255.        255.        255.       ]\n",
      "   ...\n",
      "   [242.5       221.5       218.5      ]\n",
      "   [243.0625    222.0625    219.0625   ]\n",
      "   [241.        220.        217.       ]]\n",
      "\n",
      "  [[255.        255.        255.       ]\n",
      "   [255.        255.        255.       ]\n",
      "   [255.        255.        255.       ]\n",
      "   ...\n",
      "   [243.0625    222.0625    219.0625   ]\n",
      "   [243.0625    222.0625    219.0625   ]\n",
      "   [240.8125    219.8125    216.8125   ]]]\n",
      "\n",
      "\n",
      " [[[254.        250.        249.       ]\n",
      "   [249.5       247.5       248.5      ]\n",
      "   [251.5       249.5       250.5      ]\n",
      "   ...\n",
      "   [247.75      245.75      248.75     ]\n",
      "   [244.25      242.25      245.25     ]\n",
      "   [245.5       243.5       246.5      ]]\n",
      "\n",
      "  [[252.        248.        249.       ]\n",
      "   [251.5       249.5       250.5      ]\n",
      "   [250.25      248.25      249.25     ]\n",
      "   ...\n",
      "   [244.25      242.75      247.75     ]\n",
      "   [244.5       243.        248.       ]\n",
      "   [246.5       245.        250.       ]]\n",
      "\n",
      "  [[253.5       249.5       250.5      ]\n",
      "   [250.5       248.5       249.5      ]\n",
      "   [251.75      249.75      252.75     ]\n",
      "   ...\n",
      "   [243.        241.        246.       ]\n",
      "   [243.        242.        247.       ]\n",
      "   [244.        242.        247.       ]]\n",
      "\n",
      "  ...\n",
      "\n",
      "  [[209.25      199.25      198.25     ]\n",
      "   [208.75      199.75      200.75     ]\n",
      "   [208.75      199.75      201.75     ]\n",
      "   ...\n",
      "   [199.5       189.        191.5      ]\n",
      "   [198.75      188.75      189.75     ]\n",
      "   [197.25      187.25      186.25     ]]\n",
      "\n",
      "  [[209.75      200.75      199.25     ]\n",
      "   [207.5       198.5       199.5      ]\n",
      "   [210.        200.        201.       ]\n",
      "   ...\n",
      "   [196.5       186.5       185.5      ]\n",
      "   [194.25      185.25      186.25     ]\n",
      "   [198.25      188.25      186.25     ]]\n",
      "\n",
      "  [[207.5       198.5       197.       ]\n",
      "   [208.        197.        198.5      ]\n",
      "   [206.25      197.25      198.25     ]\n",
      "   ...\n",
      "   [197.25      185.25      185.25     ]\n",
      "   [196.75      186.75      187.75     ]\n",
      "   [197.        187.        185.       ]]]\n",
      "\n",
      "\n",
      " ...\n",
      "\n",
      "\n",
      " [[[174.8125    164.8125    155.8125   ]\n",
      "   [172.75      162.5       154.25     ]\n",
      "   [171.        160.        154.       ]\n",
      "   ...\n",
      "   [194.5625    182.5625    182.5625   ]\n",
      "   [195.3125    181.8125    181.8125   ]\n",
      "   [194.9375    180.9375    180.9375   ]]\n",
      "\n",
      "  [[175.25      166.25      157.75     ]\n",
      "   [174.25      165.25      158.375    ]\n",
      "   [173.3125    164.3125    158.9375   ]\n",
      "   ...\n",
      "   [196.        184.375     184.1875   ]\n",
      "   [196.375     183.25      183.25     ]\n",
      "   [195.75      182.25      182.25     ]]\n",
      "\n",
      "  [[176.        168.5       160.75     ]\n",
      "   [176.        168.5       162.375    ]\n",
      "   [176.        167.9375    163.875    ]\n",
      "   ...\n",
      "   [197.        186.875     185.9375   ]\n",
      "   [196.8125    185.1875    185.       ]\n",
      "   [196.        184.        184.       ]]\n",
      "\n",
      "  ...\n",
      "\n",
      "  [[242.        239.        246.       ]\n",
      "   [242.        239.        246.       ]\n",
      "   [242.        239.        246.       ]\n",
      "   ...\n",
      "   [255.        251.        252.       ]\n",
      "   [255.        251.        252.       ]\n",
      "   [255.        251.        252.       ]]\n",
      "\n",
      "  [[243.75      240.75      247.75     ]\n",
      "   [243.75      240.75      247.75     ]\n",
      "   [243.75      240.75      247.75     ]\n",
      "   ...\n",
      "   [255.        251.        252.       ]\n",
      "   [255.        251.        252.       ]\n",
      "   [255.        251.        252.       ]]\n",
      "\n",
      "  [[245.25      242.25      249.25     ]\n",
      "   [245.25      242.25      249.25     ]\n",
      "   [245.25      242.25      249.25     ]\n",
      "   ...\n",
      "   [255.        251.        252.       ]\n",
      "   [255.        251.        252.       ]\n",
      "   [255.        251.        252.       ]]]\n",
      "\n",
      "\n",
      " [[[185.4375    184.4375    189.4375   ]\n",
      "   [186.4375    185.4375    190.875    ]\n",
      "   [185.875     184.875     189.875    ]\n",
      "   ...\n",
      "   [101.41211   132.41211    14.287109 ]\n",
      "   [190.95312   192.46484   195.0293   ]\n",
      "   [202.42383   202.42383   204.01367  ]]\n",
      "\n",
      "  [[185.3125    184.3125    189.3125   ]\n",
      "   [187.3125    186.3125    192.       ]\n",
      "   [184.79883   185.17383   189.48633  ]\n",
      "   ...\n",
      "   [ 89.09766   122.72266     4.7851562]\n",
      "   [103.9082    133.5332     16.595703 ]\n",
      "   [142.51367   155.72266   108.734375 ]]\n",
      "\n",
      "  [[188.625     187.625     193.4375   ]\n",
      "   [188.375     187.375     192.5625   ]\n",
      "   [188.625     187.625     193.625    ]\n",
      "   ...\n",
      "   [ 85.6875    122.875       6.3125   ]\n",
      "   [ 93.8125    125.1875      8.1875   ]\n",
      "   [101.03711   129.27539    12.792969 ]]\n",
      "\n",
      "  ...\n",
      "\n",
      "  [[183.        182.        187.       ]\n",
      "   [184.        183.        188.1875   ]\n",
      "   [182.375     181.375     187.375    ]\n",
      "   ...\n",
      "   [193.        194.        199.       ]\n",
      "   [192.8125    193.8125    198.8125   ]\n",
      "   [193.1875    194.        199.5625   ]]\n",
      "\n",
      "  [[182.52148   181.52148   187.52148  ]\n",
      "   [182.87305   183.87305   188.18555  ]\n",
      "   [183.3125    182.3125    188.3125   ]\n",
      "   ...\n",
      "   [193.76367   194.07617   201.13867  ]\n",
      "   [194.        195.        200.       ]\n",
      "   [192.54102   193.54102   198.54102  ]]\n",
      "\n",
      "  [[182.        183.        187.       ]\n",
      "   [181.25977   182.25977   186.25977  ]\n",
      "   [181.4375    182.4375    186.4375   ]\n",
      "   ...\n",
      "   [192.        193.        198.       ]\n",
      "   [193.        194.        199.       ]\n",
      "   [194.4375    195.4375    200.4375   ]]]\n",
      "\n",
      "\n",
      " [[[138.25      193.75      253.       ]\n",
      "   [134.3125    195.3125    252.3125   ]\n",
      "   [130.75      195.75      251.75     ]\n",
      "   ...\n",
      "   [135.4375    196.9375    250.6875   ]\n",
      "   [134.25      199.5       251.75     ]\n",
      "   [140.5       206.5       255.       ]]\n",
      "\n",
      "  [[138.9375    194.5625    253.75     ]\n",
      "   [134.8125    195.8125    252.8125   ]\n",
      "   [129.9375    194.9375    250.9375   ]\n",
      "   ...\n",
      "   [137.5625    198.8125    252.0625   ]\n",
      "   [133.9375    196.6875    249.1875   ]\n",
      "   [130.3125    193.6875    246.       ]]\n",
      "\n",
      "  [[135.        191.        250.       ]\n",
      "   [131.5625    192.5625    249.5625   ]\n",
      "   [128.75      193.75      249.75     ]\n",
      "   ...\n",
      "   [135.625     195.75      247.6875   ]\n",
      "   [142.5       203.        254.1875   ]\n",
      "   [141.25      201.75      253.5      ]]\n",
      "\n",
      "  ...\n",
      "\n",
      "  [[ 95.5625    150.5625    215.5625   ]\n",
      "   [ 93.3125    151.8125    215.5625   ]\n",
      "   [ 92.5625    153.5625    216.5625   ]\n",
      "   ...\n",
      "   [ 83.8125    142.8125    202.3125   ]\n",
      "   [ 84.6875    143.6875    203.1875   ]\n",
      "   [ 85.1875    144.1875    203.6875   ]]\n",
      "\n",
      "  [[ 99.3125    153.9375    219.125    ]\n",
      "   [ 93.5625    152.0625    215.8125   ]\n",
      "   [ 91.125     151.875     214.875    ]\n",
      "   ...\n",
      "   [ 84.125     143.125     201.125    ]\n",
      "   [ 84.9375    143.9375    201.9375   ]\n",
      "   [ 87.375     146.375     204.375    ]]\n",
      "\n",
      "  [[ 94.75      147.75      213.75     ]\n",
      "   [ 90.375     148.375     212.375    ]\n",
      "   [ 91.9375    152.6875    215.6875   ]\n",
      "   ...\n",
      "   [ 81.1875    140.1875    196.1875   ]\n",
      "   [ 80.875     139.875     195.875    ]\n",
      "   [ 76.625     135.625     191.625    ]]]], shape=(32, 128, 128, 3), dtype=float32) (32, 128, 128, 3)\n",
      "tf.Tensor(\n",
      "[[0. 0. 0. 0. 0. 0. 1. 0.]\n",
      " [0. 1. 0. 0. 0. 0. 0. 0.]\n",
      " [0. 1. 0. 0. 0. 0. 0. 0.]\n",
      " [0. 0. 0. 0. 0. 1. 0. 0.]\n",
      " [0. 0. 0. 0. 1. 0. 0. 0.]\n",
      " [0. 0. 0. 1. 0. 0. 0. 0.]\n",
      " [0. 0. 0. 0. 0. 0. 1. 0.]\n",
      " [0. 1. 0. 0. 0. 0. 0. 0.]\n",
      " [0. 0. 0. 0. 1. 0. 0. 0.]\n",
      " [0. 0. 0. 0. 1. 0. 0. 0.]\n",
      " [0. 0. 0. 0. 0. 1. 0. 0.]\n",
      " [0. 0. 0. 0. 1. 0. 0. 0.]\n",
      " [0. 0. 0. 0. 0. 0. 1. 0.]\n",
      " [0. 0. 0. 1. 0. 0. 0. 0.]\n",
      " [0. 0. 1. 0. 0. 0. 0. 0.]\n",
      " [0. 0. 0. 0. 0. 0. 1. 0.]\n",
      " [0. 0. 0. 0. 0. 1. 0. 0.]\n",
      " [0. 0. 0. 0. 0. 1. 0. 0.]\n",
      " [1. 0. 0. 0. 0. 0. 0. 0.]\n",
      " [0. 0. 1. 0. 0. 0. 0. 0.]\n",
      " [0. 1. 0. 0. 0. 0. 0. 0.]\n",
      " [0. 0. 0. 0. 0. 0. 1. 0.]\n",
      " [0. 0. 0. 1. 0. 0. 0. 0.]\n",
      " [0. 0. 1. 0. 0. 0. 0. 0.]\n",
      " [0. 0. 0. 1. 0. 0. 0. 0.]\n",
      " [0. 0. 0. 1. 0. 0. 0. 0.]\n",
      " [0. 0. 0. 0. 0. 0. 1. 0.]\n",
      " [0. 0. 0. 0. 0. 0. 1. 0.]\n",
      " [0. 0. 0. 0. 0. 0. 1. 0.]\n",
      " [0. 1. 0. 0. 0. 0. 0. 0.]\n",
      " [0. 0. 0. 0. 0. 1. 0. 0.]\n",
      " [0. 0. 0. 0. 0. 1. 0. 0.]], shape=(32, 8), dtype=float32) (32, 8)\n"
     ]
    }
   ],
   "source": [
    "for x,y in training_set:\n",
    "    print(x,x.shape)\n",
    "    print(y,y.shape)\n",
    "    break\n",
    "    "
   ]
  },
  {
   "cell_type": "markdown",
   "id": "a61f5b08-7415-4b91-a5d0-98db623c9f06",
   "metadata": {},
   "source": [
    "## To avoid Overshooting\n",
    "1.Choose small learning rate default 0.001 here we have taken 0.0001\n",
    "2.There may be chance of underfitting so increase number of neuron\n",
    "3.Add more Convolutional Layer to extract more feature from images there may be possibilty that model unable to capture relevant feature or model is confusing due to lack of feature so feed with more feature"
   ]
  },
  {
   "cell_type": "markdown",
   "id": "063e3468-3482-4e77-8326-1a3db38481fb",
   "metadata": {},
   "source": [
    "## Building Model"
   ]
  },
  {
   "cell_type": "code",
   "execution_count": 6,
   "id": "d3d37712-fc15-47a9-b53e-5dcde0bbe27b",
   "metadata": {
    "scrolled": true
   },
   "outputs": [],
   "source": [
    "from tensorflow.keras.layers import Dense, Conv2D, MaxPooling2D, Flatten,Dropout\n",
    "from tensorflow.keras.models import Sequential"
   ]
  },
  {
   "cell_type": "code",
   "execution_count": 7,
   "id": "242163c7-c637-407b-a558-efc66e41a1fd",
   "metadata": {},
   "outputs": [],
   "source": [
    "model = Sequential()"
   ]
  },
  {
   "cell_type": "markdown",
   "id": "13ffd9fd-f76e-403b-9828-77260f817001",
   "metadata": {},
   "source": [
    "## Building Convolution Layer"
   ]
  },
  {
   "cell_type": "code",
   "execution_count": 8,
   "id": "ec85507c-0e86-4cb1-9fc0-d63380d65e1c",
   "metadata": {},
   "outputs": [],
   "source": [
    "model.add(Conv2D(filters=32,kernel_size=3,padding='same',activation='relu',input_shape=[128,128,3]))\n",
    "model.add(Conv2D(filters=32,kernel_size=3,activation='relu'))\n",
    "model.add(MaxPooling2D(pool_size=2, strides=2))"
   ]
  },
  {
   "cell_type": "code",
   "execution_count": 9,
   "id": "338cfae3-c48d-4780-b358-eefeada463b2",
   "metadata": {},
   "outputs": [],
   "source": [
    "model.add(Conv2D(filters=64,kernel_size=3,padding='same',activation='relu'))\n",
    "model.add(Conv2D(filters=64,kernel_size=3,activation='relu'))\n",
    "model.add(MaxPooling2D(pool_size=2, strides=2))"
   ]
  },
  {
   "cell_type": "code",
   "execution_count": 10,
   "id": "cbcb73c4-6500-4539-b8a0-83e010858378",
   "metadata": {},
   "outputs": [],
   "source": [
    "model.add(Conv2D(filters=128,kernel_size=3,padding='same',activation='relu'))\n",
    "model.add(Conv2D(filters=128,kernel_size=3,activation='relu'))\n",
    "model.add(MaxPooling2D(pool_size=2, strides=2))"
   ]
  },
  {
   "cell_type": "code",
   "execution_count": 11,
   "id": "288b59db-8454-4dd7-a626-1aa88309fb4d",
   "metadata": {
    "scrolled": true
   },
   "outputs": [],
   "source": [
    "model.add(Conv2D(filters=256,kernel_size=3,padding='same',activation='relu'))\n",
    "model.add(Conv2D(filters=256,kernel_size=3,activation='relu'))\n",
    "model.add(MaxPooling2D(pool_size=2, strides=2))"
   ]
  },
  {
   "cell_type": "code",
   "execution_count": 12,
   "id": "f3adef2d-b8e5-4326-832c-96468052c62e",
   "metadata": {},
   "outputs": [],
   "source": [
    "model.add(Conv2D(filters=512,kernel_size=3,padding='same',activation='relu'))\n",
    "model.add(Conv2D(filters=512,kernel_size=3,activation='relu'))\n",
    "model.add(MaxPooling2D(pool_size=2, strides=2))"
   ]
  },
  {
   "cell_type": "code",
   "execution_count": 13,
   "id": "01638b13-0847-4bdf-b035-f7ad368d431d",
   "metadata": {},
   "outputs": [],
   "source": [
    "model.add(Dropout(0.25)) # To avoid Overfitting"
   ]
  },
  {
   "cell_type": "code",
   "execution_count": 14,
   "id": "7bed3f0f-a98e-480a-ab71-0137b0ed1bb6",
   "metadata": {},
   "outputs": [],
   "source": [
    "model.add(Flatten())"
   ]
  },
  {
   "cell_type": "code",
   "execution_count": 15,
   "id": "d601880f-bac8-4afa-ac4a-1fea10b7e22a",
   "metadata": {},
   "outputs": [],
   "source": [
    "model.add(Dense(units=1700,activation='relu'))"
   ]
  },
  {
   "cell_type": "code",
   "execution_count": 16,
   "id": "197d5bd9-becf-4713-b0cf-ae2c21b83cca",
   "metadata": {},
   "outputs": [],
   "source": [
    "model.add(Dropout(0.4))"
   ]
  },
  {
   "cell_type": "code",
   "execution_count": 17,
   "id": "1c802c23-57c6-42a1-a5cb-06845cc8b9c6",
   "metadata": {},
   "outputs": [],
   "source": [
    "#Output Layer\n",
    "model.add(Dense(units=8,activation='softmax'))"
   ]
  },
  {
   "cell_type": "markdown",
   "id": "11d17e6e-965e-421b-921c-6f2086b65c8c",
   "metadata": {},
   "source": [
    "## Compiling Model"
   ]
  },
  {
   "cell_type": "code",
   "execution_count": 18,
   "id": "25e5176b-a85c-48cf-ab07-6b3f515281e7",
   "metadata": {},
   "outputs": [],
   "source": [
    "model.compile(\n",
    "    optimizer=tf.keras.optimizers.Adam(learning_rate=0.0001),\n",
    "    loss='categorical_crossentropy',\n",
    "    metrics=['accuracy']\n",
    ")"
   ]
  },
  {
   "cell_type": "code",
   "execution_count": 19,
   "id": "90d66b6a-570b-470d-a31e-bcc847018fc6",
   "metadata": {},
   "outputs": [
    {
     "name": "stdout",
     "output_type": "stream",
     "text": [
      "Model: \"sequential\"\n",
      "_________________________________________________________________\n",
      " Layer (type)                Output Shape              Param #   \n",
      "=================================================================\n",
      " conv2d (Conv2D)             (None, 128, 128, 32)      896       \n",
      "                                                                 \n",
      " conv2d_1 (Conv2D)           (None, 126, 126, 32)      9248      \n",
      "                                                                 \n",
      " max_pooling2d (MaxPooling2D  (None, 63, 63, 32)       0         \n",
      " )                                                               \n",
      "                                                                 \n",
      " conv2d_2 (Conv2D)           (None, 63, 63, 64)        18496     \n",
      "                                                                 \n",
      " conv2d_3 (Conv2D)           (None, 61, 61, 64)        36928     \n",
      "                                                                 \n",
      " max_pooling2d_1 (MaxPooling  (None, 30, 30, 64)       0         \n",
      " 2D)                                                             \n",
      "                                                                 \n",
      " conv2d_4 (Conv2D)           (None, 30, 30, 128)       73856     \n",
      "                                                                 \n",
      " conv2d_5 (Conv2D)           (None, 28, 28, 128)       147584    \n",
      "                                                                 \n",
      " max_pooling2d_2 (MaxPooling  (None, 14, 14, 128)      0         \n",
      " 2D)                                                             \n",
      "                                                                 \n",
      " conv2d_6 (Conv2D)           (None, 14, 14, 256)       295168    \n",
      "                                                                 \n",
      " conv2d_7 (Conv2D)           (None, 12, 12, 256)       590080    \n",
      "                                                                 \n",
      " max_pooling2d_3 (MaxPooling  (None, 6, 6, 256)        0         \n",
      " 2D)                                                             \n",
      "                                                                 \n",
      " conv2d_8 (Conv2D)           (None, 6, 6, 512)         1180160   \n",
      "                                                                 \n",
      " conv2d_9 (Conv2D)           (None, 4, 4, 512)         2359808   \n",
      "                                                                 \n",
      " max_pooling2d_4 (MaxPooling  (None, 2, 2, 512)        0         \n",
      " 2D)                                                             \n",
      "                                                                 \n",
      " dropout (Dropout)           (None, 2, 2, 512)         0         \n",
      "                                                                 \n",
      " flatten (Flatten)           (None, 2048)              0         \n",
      "                                                                 \n",
      " dense (Dense)               (None, 1700)              3483300   \n",
      "                                                                 \n",
      " dropout_1 (Dropout)         (None, 1700)              0         \n",
      "                                                                 \n",
      " dense_1 (Dense)             (None, 8)                 13608     \n",
      "                                                                 \n",
      "=================================================================\n",
      "Total params: 8,209,132\n",
      "Trainable params: 8,209,132\n",
      "Non-trainable params: 0\n",
      "_________________________________________________________________\n"
     ]
    }
   ],
   "source": [
    "model.summary()"
   ]
  },
  {
   "cell_type": "markdown",
   "id": "1d5aab6f-2aa7-4ba1-89aa-16d871a5b21b",
   "metadata": {},
   "source": [
    "## Model Traning"
   ]
  },
  {
   "cell_type": "code",
   "execution_count": 20,
   "id": "f32e2398-7190-4d14-994a-c466fcce6822",
   "metadata": {},
   "outputs": [
    {
     "name": "stdout",
     "output_type": "stream",
     "text": [
      "Epoch 1/10\n",
      "289/289 [==============================] - 68s 148ms/step - loss: 1.3347 - accuracy: 0.4635 - val_loss: 0.8130 - val_accuracy: 0.7048\n",
      "Epoch 2/10\n",
      "289/289 [==============================] - 37s 126ms/step - loss: 0.7790 - accuracy: 0.6860 - val_loss: 0.6050 - val_accuracy: 0.7704\n",
      "Epoch 3/10\n",
      "289/289 [==============================] - 35s 117ms/step - loss: 0.5697 - accuracy: 0.7815 - val_loss: 0.4603 - val_accuracy: 0.8267\n",
      "Epoch 4/10\n",
      "289/289 [==============================] - 34s 116ms/step - loss: 0.3746 - accuracy: 0.8571 - val_loss: 0.3110 - val_accuracy: 0.8884\n",
      "Epoch 5/10\n",
      "289/289 [==============================] - 35s 118ms/step - loss: 0.2989 - accuracy: 0.8920 - val_loss: 0.3329 - val_accuracy: 0.8595\n",
      "Epoch 6/10\n",
      "289/289 [==============================] - 34s 117ms/step - loss: 0.2320 - accuracy: 0.9174 - val_loss: 0.2019 - val_accuracy: 0.9325\n",
      "Epoch 7/10\n",
      "289/289 [==============================] - 34s 116ms/step - loss: 0.1856 - accuracy: 0.9335 - val_loss: 0.2099 - val_accuracy: 0.9266\n",
      "Epoch 8/10\n",
      "289/289 [==============================] - 35s 117ms/step - loss: 0.1457 - accuracy: 0.9503 - val_loss: 0.0827 - val_accuracy: 0.9745\n",
      "Epoch 9/10\n",
      "289/289 [==============================] - 35s 118ms/step - loss: 0.1234 - accuracy: 0.9552 - val_loss: 0.1579 - val_accuracy: 0.9457\n",
      "Epoch 10/10\n",
      "289/289 [==============================] - 35s 118ms/step - loss: 0.1079 - accuracy: 0.9603 - val_loss: 0.1972 - val_accuracy: 0.9437\n"
     ]
    }
   ],
   "source": [
    "training_history = model.fit(x=training_set,validation_data=validation_set,epochs=10)"
   ]
  },
  {
   "cell_type": "markdown",
   "id": "59c86388-ebd8-44ad-b57b-6cbe00ca1c72",
   "metadata": {},
   "source": [
    "## Evaluating Model"
   ]
  },
  {
   "cell_type": "code",
   "execution_count": 21,
   "id": "87af63a8-5bcd-44eb-ad92-61b0a533edfd",
   "metadata": {},
   "outputs": [
    {
     "name": "stdout",
     "output_type": "stream",
     "text": [
      "289/289 [==============================] - 26s 89ms/step - loss: 0.1071 - accuracy: 0.9687\n"
     ]
    }
   ],
   "source": [
    "#Training set Accuracy\n",
    "train_loss, train_acc = model.evaluate(training_set)"
   ]
  },
  {
   "cell_type": "code",
   "execution_count": 22,
   "id": "a2e4bb00-7b68-4a29-a6c4-adcb87b21410",
   "metadata": {},
   "outputs": [
    {
     "name": "stdout",
     "output_type": "stream",
     "text": [
      "0.10708606243133545 0.9687060117721558\n"
     ]
    }
   ],
   "source": [
    "print(train_loss,train_acc)"
   ]
  },
  {
   "cell_type": "code",
   "execution_count": 23,
   "id": "3e617610-1726-4f80-8ad3-31cfbe2cef66",
   "metadata": {},
   "outputs": [
    {
     "name": "stdout",
     "output_type": "stream",
     "text": [
      "64/64 [==============================] - 7s 99ms/step - loss: 0.1972 - accuracy: 0.9437\n"
     ]
    }
   ],
   "source": [
    "#Model on validation set\n",
    "val_loss, val_acc = model.evaluate(validation_set)"
   ]
  },
  {
   "cell_type": "code",
   "execution_count": 24,
   "id": "33651eb5-ec89-4190-9e59-24b2c7804715",
   "metadata": {},
   "outputs": [
    {
     "name": "stdout",
     "output_type": "stream",
     "text": [
      "0.19719329476356506 0.943710207939148\n"
     ]
    }
   ],
   "source": [
    "print(val_loss,val_acc)"
   ]
  },
  {
   "cell_type": "code",
   "execution_count": null,
   "id": "4e870a75-e2ca-487a-b786-c336b36aaf03",
   "metadata": {},
   "outputs": [],
   "source": []
  },
  {
   "cell_type": "markdown",
   "id": "d5ff0600-c8f9-48f0-99de-b781f2e7861f",
   "metadata": {},
   "source": [
    "## Saving Model"
   ]
  },
  {
   "cell_type": "code",
   "execution_count": 25,
   "id": "13758137-6ff6-4382-bbc0-988b62e96d43",
   "metadata": {},
   "outputs": [],
   "source": [
    "model.save(\"trained_model.keras\")"
   ]
  },
  {
   "cell_type": "code",
   "execution_count": 26,
   "id": "c3d33a7a-8b3d-4325-8bf2-8372e35203da",
   "metadata": {},
   "outputs": [
    {
     "data": {
      "text/plain": [
       "{'loss': [1.3347499370574951,\n",
       "  0.7789617776870728,\n",
       "  0.5696964859962463,\n",
       "  0.37457555532455444,\n",
       "  0.2989382743835449,\n",
       "  0.23200087249279022,\n",
       "  0.18564866483211517,\n",
       "  0.1456732451915741,\n",
       "  0.12336211651563644,\n",
       "  0.10793258249759674],\n",
       " 'accuracy': [0.4634542465209961,\n",
       "  0.6859772801399231,\n",
       "  0.7814834713935852,\n",
       "  0.8570654988288879,\n",
       "  0.8920411467552185,\n",
       "  0.9173795580863953,\n",
       "  0.9335138201713562,\n",
       "  0.9502977728843689,\n",
       "  0.9551705718040466,\n",
       "  0.9602598547935486],\n",
       " 'val_loss': [0.8130401968955994,\n",
       "  0.6049916744232178,\n",
       "  0.46025240421295166,\n",
       "  0.3109939396381378,\n",
       "  0.3328530490398407,\n",
       "  0.20186488330364227,\n",
       "  0.20988401770591736,\n",
       "  0.08269933611154556,\n",
       "  0.15793240070343018,\n",
       "  0.19719329476356506],\n",
       " 'val_accuracy': [0.7048457860946655,\n",
       "  0.770435631275177,\n",
       "  0.826725423336029,\n",
       "  0.8883994221687317,\n",
       "  0.8595203161239624,\n",
       "  0.9324522614479065,\n",
       "  0.9265785813331604,\n",
       "  0.9745472073554993,\n",
       "  0.9456681609153748,\n",
       "  0.943710207939148]}"
      ]
     },
     "execution_count": 26,
     "metadata": {},
     "output_type": "execute_result"
    }
   ],
   "source": [
    "training_history.history"
   ]
  },
  {
   "cell_type": "code",
   "execution_count": 27,
   "id": "35abc364-5694-4b8a-83c2-43a85ccf38bb",
   "metadata": {},
   "outputs": [],
   "source": [
    "#Recording History in json\n",
    "import json\n",
    "with open(\"training_hist.json\",\"w\") as f:\n",
    "    json.dump(training_history.history,f)"
   ]
  },
  {
   "cell_type": "code",
   "execution_count": 28,
   "id": "c136cfcf-8352-4aea-8501-02e8ba298909",
   "metadata": {},
   "outputs": [
    {
     "data": {
      "text/plain": [
       "[0.7048457860946655,\n",
       " 0.770435631275177,\n",
       " 0.826725423336029,\n",
       " 0.8883994221687317,\n",
       " 0.8595203161239624,\n",
       " 0.9324522614479065,\n",
       " 0.9265785813331604,\n",
       " 0.9745472073554993,\n",
       " 0.9456681609153748,\n",
       " 0.943710207939148]"
      ]
     },
     "execution_count": 28,
     "metadata": {},
     "output_type": "execute_result"
    }
   ],
   "source": [
    "training_history.history['val_accuracy']"
   ]
  },
  {
   "cell_type": "markdown",
   "id": "bfeb343e-b081-4ff0-8c42-1d5637b5cbc1",
   "metadata": {},
   "source": [
    "### Accuracy Visualization"
   ]
  },
  {
   "cell_type": "code",
   "execution_count": 29,
   "id": "d0f1ba93-ff9b-4205-8c63-71233389fcc4",
   "metadata": {},
   "outputs": [
    {
     "data": {
      "image/png": "[encoded data removed]",
      "text/plain": [
       "<Figure size 640x480 with 1 Axes>"
      ]
     },
     "metadata": {},
     "output_type": "display_data"
    }
   ],
   "source": [
    "epochs = [i for i in range (1,11)]\n",
    "plt.plot(epochs,training_history.history['accuracy'],color='red', label='Training Accuracy')\n",
    "plt.plot(epochs,training_history.history['val_accuracy'],color='blue', label='Validation Accuracy')\n",
    "plt.xlabel(\"No. of Epochs\")\n",
    "plt.ylabel(\"Accuracy Result\")\n",
    "plt.title(\"Visualization of Accuracy Result\")\n",
    "plt.legend()\n",
    "plt.show()"
   ]
  },
  {
   "cell_type": "markdown",
   "id": "bbe961a6-dc93-4efd-87b6-d76a27537e2a",
   "metadata": {},
   "source": [
    "## Metrics for model evaluation"
   ]
  },
  {
   "cell_type": "code",
   "execution_count": 30,
   "id": "eebb1a7d-53bb-452d-a350-649b85672cab",
   "metadata": {},
   "outputs": [
    {
     "data": {
      "text/plain": [
       "['Anthracnose',\n",
       " 'algal leaf',\n",
       " 'bird eye spot',\n",
       " 'brown blight',\n",
       " 'gray light',\n",
       " 'healthy',\n",
       " 'red leaf spot',\n",
       " 'white spot']"
      ]
     },
     "execution_count": 30,
     "metadata": {},
     "output_type": "execute_result"
    }
   ],
   "source": [
    "class_name = validation_set.class_names\n",
    "class_name"
   ]
  },
  {
   "cell_type": "code",
   "execution_count": null,
   "id": "24f57305-4d15-4f71-b2c7-d5a2c6d399f3",
   "metadata": {},
   "outputs": [],
   "source": []
  },
  {
   "cell_type": "code",
   "execution_count": 31,
   "id": "bdb66a46-74fc-4a18-86de-9203ce7a594c",
   "metadata": {},
   "outputs": [
    {
     "name": "stdout",
     "output_type": "stream",
     "text": [
      "Found 2043 files belonging to 8 classes.\n"
     ]
    }
   ],
   "source": [
    "test_set = tf.keras.utils.image_dataset_from_directory(\n",
    "    'valid',\n",
    "    labels=\"inferred\",\n",
    "    label_mode=\"categorical\",\n",
    "    class_names=None,\n",
    "    color_mode=\"rgb\",\n",
    "    batch_size=32,\n",
    "    image_size=(128, 128),\n",
    "    shuffle=False,\n",
    "    seed=None,\n",
    "    validation_split=None,\n",
    "    subset=None,\n",
    "    interpolation=\"bilinear\",\n",
    "    follow_links=False,\n",
    "    crop_to_aspect_ratio=False\n",
    ")"
   ]
  },
  {
   "cell_type": "code",
   "execution_count": 32,
   "id": "8aeebd03-6347-4d31-a807-7d7b29ce747a",
   "metadata": {},
   "outputs": [
    {
     "name": "stdout",
     "output_type": "stream",
     "text": [
      "64/64 [==============================] - 4s 56ms/step\n"
     ]
    },
    {
     "data": {
      "text/plain": [
       "(array([[7.7029204e-01, 1.8569498e-04, 2.2693828e-01, ..., 4.4661505e-05,\n",
       "         6.1141174e-05, 8.0852260e-05],\n",
       "        [4.7140315e-01, 1.9844556e-02, 2.9009959e-02, ..., 4.2069122e-01,\n",
       "         9.8537905e-03, 2.4369985e-03],\n",
       "        [8.6484700e-01, 7.5998288e-03, 1.7568204e-03, ..., 4.7367826e-02,\n",
       "         9.1926934e-04, 3.1784855e-04],\n",
       "        ...,\n",
       "        [3.4948054e-05, 2.8604254e-02, 1.3398726e-05, ..., 1.0822969e-04,\n",
       "         1.4886637e-04, 7.5576401e-01],\n",
       "        [8.3443892e-06, 1.8288835e-04, 5.0050658e-06, ..., 2.0315239e-05,\n",
       "         2.3646993e-04, 5.0838774e-01],\n",
       "        [2.4425000e-05, 1.2814257e-01, 1.5848063e-05, ..., 1.5956536e-04,\n",
       "         3.3136510e-04, 7.6245821e-01]], dtype=float32),\n",
       " (2043, 8))"
      ]
     },
     "execution_count": 32,
     "metadata": {},
     "output_type": "execute_result"
    }
   ],
   "source": [
    "y_pred = model.predict(test_set)\n",
    "y_pred,y_pred.shape"
   ]
  },
  {
   "cell_type": "code",
   "execution_count": 33,
   "id": "5b2a4d28-a80f-49ac-a988-0a95de9dd091",
   "metadata": {},
   "outputs": [],
   "source": [
    "predicted_categories = tf.argmax(y_pred,axis=1)"
   ]
  },
  {
   "cell_type": "code",
   "execution_count": 34,
   "id": "82bb98bb-05e7-4ed4-9a8b-0aca2d1fa11d",
   "metadata": {},
   "outputs": [
    {
     "data": {
      "text/plain": [
       "<tf.Tensor: shape=(2043,), dtype=int64, numpy=array([0, 0, 0, ..., 7, 7, 7], dtype=int64)>"
      ]
     },
     "execution_count": 34,
     "metadata": {},
     "output_type": "execute_result"
    }
   ],
   "source": [
    "predicted_categories"
   ]
  },
  {
   "cell_type": "code",
   "execution_count": 35,
   "id": "8e69e42e-e0e1-4672-b615-66d013cb21db",
   "metadata": {},
   "outputs": [
    {
     "data": {
      "text/plain": [
       "<tf.Tensor: shape=(2043, 8), dtype=float32, numpy=\n",
       "array([[1., 0., 0., ..., 0., 0., 0.],\n",
       "       [1., 0., 0., ..., 0., 0., 0.],\n",
       "       [1., 0., 0., ..., 0., 0., 0.],\n",
       "       ...,\n",
       "       [0., 0., 0., ..., 0., 0., 1.],\n",
       "       [0., 0., 0., ..., 0., 0., 1.],\n",
       "       [0., 0., 0., ..., 0., 0., 1.]], dtype=float32)>"
      ]
     },
     "execution_count": 35,
     "metadata": {},
     "output_type": "execute_result"
    }
   ],
   "source": [
    "true_categories = tf.concat([y for x,y in test_set],axis=0)\n",
    "true_categories"
   ]
  },
  {
   "cell_type": "code",
   "execution_count": 36,
   "id": "1b9fe226-5626-4b26-8062-d1679c12d4cb",
   "metadata": {},
   "outputs": [
    {
     "data": {
      "text/plain": [
       "<tf.Tensor: shape=(2043,), dtype=int64, numpy=array([0, 0, 0, ..., 7, 7, 7], dtype=int64)>"
      ]
     },
     "execution_count": 36,
     "metadata": {},
     "output_type": "execute_result"
    }
   ],
   "source": [
    "Y_true = tf.argmax(true_categories,axis=1)\n",
    "Y_true"
   ]
  },
  {
   "cell_type": "code",
   "execution_count": null,
   "id": "7b288bcd-20db-441d-90c9-5c68d518d5a3",
   "metadata": {},
   "outputs": [],
   "source": []
  },
  {
   "cell_type": "code",
   "execution_count": 39,
   "id": "804744a7-8946-41ee-ab69-768b82107ab2",
   "metadata": {},
   "outputs": [],
   "source": [
    "from sklearn.metrics import classification_report,confusion_matrix"
   ]
  },
  {
   "cell_type": "code",
   "execution_count": 40,
   "id": "3540e4c7-d2c3-4b47-b937-bcd75c06693f",
   "metadata": {},
   "outputs": [
    {
     "name": "stdout",
     "output_type": "stream",
     "text": [
      "               precision    recall  f1-score   support\n",
      "\n",
      "  Anthracnose       0.97      0.97      0.97       299\n",
      "   algal leaf       0.95      0.98      0.96       232\n",
      "bird eye spot       0.97      0.99      0.98       294\n",
      " brown blight       0.86      0.74      0.80       207\n",
      "   gray light       0.99      0.80      0.89       210\n",
      "      healthy       0.99      1.00      1.00       544\n",
      "red leaf spot       0.81      1.00      0.89       231\n",
      "   white spot       0.96      0.88      0.92        26\n",
      "\n",
      "     accuracy                           0.94      2043\n",
      "    macro avg       0.94      0.92      0.93      2043\n",
      " weighted avg       0.95      0.94      0.94      2043\n",
      "\n"
     ]
    }
   ],
   "source": [
    "print(classification_report(Y_true,predicted_categories,target_names=class_name))"
   ]
  },
  {
   "cell_type": "code",
   "execution_count": 45,
   "id": "eff8cb8c-e0fc-4887-9da2-453eddad895e",
   "metadata": {},
   "outputs": [
    {
     "data": {
      "text/plain": [
       "array([[290,   0,   8,   0,   0,   1,   0,   0],\n",
       "       [  0, 228,   0,   3,   0,   0,   0,   1],\n",
       "       [  4,   0, 290,   0,   0,   0,   0,   0],\n",
       "       [  0,   9,   0, 154,   1,   1,  42,   0],\n",
       "       [  3,   4,   2,  20, 169,   1,  11,   0],\n",
       "       [  0,   0,   0,   0,   0, 544,   0,   0],\n",
       "       [  0,   0,   0,   0,   0,   1, 230,   0],\n",
       "       [  1,   0,   0,   2,   0,   0,   0,  23]], dtype=int64)"
      ]
     },
     "execution_count": 45,
     "metadata": {},
     "output_type": "execute_result"
    }
   ],
   "source": [
    "cm = confusion_matrix(Y_true,predicted_categories)\n",
    "cm"
   ]
  },
  {
   "cell_type": "code",
   "execution_count": null,
   "id": "ed052de5-7d98-42a9-879c-c836e5b63e18",
   "metadata": {},
   "outputs": [],
   "source": []
  },
  {
   "cell_type": "markdown",
   "id": "3d7bc6f4-6137-478e-8eee-7ac290502527",
   "metadata": {},
   "source": [
    "### confusion_matrix visualiation"
   ]
  },
  {
   "cell_type": "code",
   "execution_count": 48,
   "id": "026d5493-5e84-46fa-a834-8e925897ae1b",
   "metadata": {},
   "outputs": [
    {
     "data": {
      "text/plain": [
       "<Axes: >"
      ]
     },
     "execution_count": 48,
     "metadata": {},
     "output_type": "execute_result"
    },
    {
     "data": {
      "image/png": "[encoded data removed]",
      "text/plain": [
       "<Figure size 640x480 with 2 Axes>"
      ]
     },
     "metadata": {},
     "output_type": "display_data"
    }
   ],
   "source": [
    "sns.heatmap(cm)"
   ]
  },
  {
   "cell_type": "code",
   "execution_count": null,
   "id": "98cd9c37-e857-4591-84ff-a29b2004efc2",
   "metadata": {},
   "outputs": [],
   "source": []
  },
  {
   "cell_type": "code",
   "execution_count": null,
   "id": "2befcda0-a3ce-4efb-8d9f-2ad6e260946c",
   "metadata": {},
   "outputs": [],
   "source": []
  },
  {
   "cell_type": "code",
   "execution_count": null,
   "id": "7be275b4-ced7-4bd9-9349-f0686f86cf81",
   "metadata": {},
   "outputs": [],
   "source": []
  },
  {
   "cell_type": "code",
   "execution_count": null,
   "id": "8bac8c6a-907e-46b2-859a-1549b0d56f06",
   "metadata": {},
   "outputs": [],
   "source": []
  },
  {
   "cell_type": "code",
   "execution_count": null,
   "id": "58397bd8-4740-4c17-8d88-19800a26b27e",
   "metadata": {},
   "outputs": [],
   "source": []
  },
  {
   "cell_type": "code",
   "execution_count": null,
   "id": "7ea631e8-8d5b-49bd-bb8a-3dd571231353",
   "metadata": {},
   "outputs": [],
   "source": []
  },
  {
   "cell_type": "code",
   "execution_count": null,
   "id": "165a7c24-aa33-43dc-b8ca-85bad86e232f",
   "metadata": {},
   "outputs": [],
   "source": []
  },
  {
   "cell_type": "code",
   "execution_count": null,
   "id": "c5ea7fe8-de7c-4b54-a2ce-2466f9235967",
   "metadata": {},
   "outputs": [],
   "source": []
  },
  {
   "cell_type": "code",
   "execution_count": null,
   "id": "822af6cf-26f3-4e88-84bd-03b537bbaf4e",
   "metadata": {},
   "outputs": [],
   "source": []
  },
  {
   "cell_type": "code",
   "execution_count": null,
   "id": "cf29e70d-2029-4c93-9f7a-f21b67776be7",
   "metadata": {},
   "outputs": [],
   "source": []
  },
  {
   "cell_type": "code",
   "execution_count": null,
   "id": "eaf0ecd8-3bb9-4c0b-91ef-f2ef04295a44",
   "metadata": {},
   "outputs": [],
   "source": []
  },
  {
   "cell_type": "code",
   "execution_count": null,
   "id": "68df913f-7990-4684-a7e6-03147a5c274f",
   "metadata": {},
   "outputs": [],
   "source": []
  },
  {
   "cell_type": "code",
   "execution_count": null,
   "id": "82f8b736-a0c7-4a58-ad9f-a9427f8897f1",
   "metadata": {},
   "outputs": [],
   "source": []
  },
  {
   "cell_type": "code",
   "execution_count": null,
   "id": "1890b19e-3175-47ed-bf35-bd4954cd912d",
   "metadata": {},
   "outputs": [],
   "source": []
  },
  {
   "cell_type": "code",
   "execution_count": null,
   "id": "243fb6b9-20f9-4a3a-bc70-78ec333bc50b",
   "metadata": {},
   "outputs": [],
   "source": []
  },
  {
   "cell_type": "code",
   "execution_count": null,
   "id": "78d46642-e183-40f2-a9bd-1f9aa7d4efc3",
   "metadata": {},
   "outputs": [],
   "source": []
  },
  {
   "cell_type": "code",
   "execution_count": null,
   "id": "a7928247-fd69-407b-ba78-78d9e020e585",
   "metadata": {},
   "outputs": [],
   "source": []
  },
  {
   "cell_type": "code",
   "execution_count": null,
   "id": "311512e4-7c7a-4847-a1cf-c7fe63034e6a",
   "metadata": {},
   "outputs": [],
   "source": []
  },
  {
   "cell_type": "code",
   "execution_count": null,
   "id": "8a828108-057a-4911-b8ae-5bc0176fec35",
   "metadata": {},
   "outputs": [],
   "source": []
  },
  {
   "cell_type": "code",
   "execution_count": null,
   "id": "ef9a35a7-3da0-43fb-b3bb-a2dbd338875e",
   "metadata": {},
   "outputs": [],
   "source": []
  }
 ],
 "metadata": {
  "kernelspec": {
   "display_name": "Python 3 (ipykernel)",
   "language": "python",
   "name": "python3"
  },
  "language_info": {
   "codemirror_mode": {
    "name": "ipython",
    "version": 3
   },
   "file_extension": ".py",
   "mimetype": "text/x-python",
   "name": "python",
   "nbconvert_exporter": "python",
   "pygments_lexer": "ipython3",
   "version": "3.9.21"
  }
 },
 "nbformat": 4,
 "nbformat_minor": 5
}
